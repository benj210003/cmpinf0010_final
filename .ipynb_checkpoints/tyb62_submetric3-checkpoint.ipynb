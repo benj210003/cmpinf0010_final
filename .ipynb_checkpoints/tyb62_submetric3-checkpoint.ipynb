{
 "cells": [
  {
   "cell_type": "code",
   "execution_count": 1,
   "id": "fff5b35e-0c7c-484e-bf34-33afc8b53e8b",
   "metadata": {},
   "outputs": [],
   "source": [
    "#Setup\n",
    "import pandas as pd\n",
    "pd.set_option('display.max_rows', None)\n",
    "\n",
    "traffic = pd.read_csv(\"data/traffic_data.csv\", sep=\",\")\n",
    "population = pd.read_csv(\"data/population.csv\", sep=\",\")"
   ]
  },
  {
   "cell_type": "markdown",
   "id": "ef7efb88-c082-46ba-b0f7-f8e0163b577e",
   "metadata": {},
   "source": [
    "### Submetric 3: Traffic\n",
    "\n",
    "People hate traffic, but also want to be safe by not having drivers that go way faster than the speed limit. Let's see what neighborhoods have the least traffic, as well as which ones have the drivers who drive the lowest percentage over the speed limit. This should help to determine the best neighborhood in terms of traffic, as those that have low traffic and people that don't go far over the speed limit should be the best."
   ]
  },
  {
   "cell_type": "markdown",
   "id": "087a0f90-f786-4d16-9291-ae5d504dcd22",
   "metadata": {},
   "source": [
    "The 10 neighborhoods with the lowest total daily average car traffic are"
   ]
  },
  {
   "cell_type": "code",
   "execution_count": 4,
   "id": "a8a6e43e-9372-4562-9f45-4c47268055ff",
   "metadata": {},
   "outputs": [
    {
     "data": {
      "text/plain": [
       "neighborhood\n",
       "South Side Flats             115.0\n",
       "Lincoln Place                126.0\n",
       "Lincoln-Lemington-Belmar     195.0\n",
       "Fineview                     419.0\n",
       "Allegheny West               477.0\n",
       "New Homestead                666.0\n",
       "Overbrook                    777.0\n",
       "Summer Hill                  937.0\n",
       "Spring Garden               1226.0\n",
       "Beltzhoover                 1577.0\n",
       "Name: average_daily_car_traffic, dtype: float64"
      ]
     },
     "execution_count": 4,
     "metadata": {},
     "output_type": "execute_result"
    }
   ],
   "source": [
    "neighborhood_traffic = traffic.groupby('neighborhood').sum()\n",
    "neighborhood_traffic.loc[neighborhood_traffic['average_daily_car_traffic'] > 0].sort_values(by='average_daily_car_traffic', ascending=True)['average_daily_car_traffic'].head(10)"
   ]
  },
  {
   "cell_type": "markdown",
   "id": "9f4dbf0d-0259-4774-90f2-22da12a9c3fb",
   "metadata": {},
   "source": [
    "The 10 neighborhoods with the lowest percent over the speed limit are"
   ]
  },
  {
   "cell_type": "code",
   "execution_count": 6,
   "id": "a2a8b310-6185-4f4b-9337-34428f3eb2e6",
   "metadata": {},
   "outputs": [
    {
     "data": {
      "text/plain": [
       "neighborhood\n",
       "South Side Flats              3.0\n",
       "Central Business District     6.0\n",
       "Allegheny West               11.0\n",
       "Lincoln Place                14.0\n",
       "Knoxville                    25.0\n",
       "West Oakland                 28.0\n",
       "East Allegheny               38.0\n",
       "New Homestead                39.0\n",
       "Bluff                        44.0\n",
       "Fineview                     47.0\n",
       "Name: percent_over_limit, dtype: float64"
      ]
     },
     "execution_count": 6,
     "metadata": {},
     "output_type": "execute_result"
    }
   ],
   "source": [
    "neighborhood_traffic.loc[neighborhood_traffic['percent_over_limit'] > 0].sort_values(by='percent_over_limit', ascending=True)['percent_over_limit'].head(10)"
   ]
  },
  {
   "cell_type": "markdown",
   "id": "724a13b0-0a50-4413-802b-65a26236e5ea",
   "metadata": {},
   "source": [
    "The 10 neighborhoods with the lowest recorded max speed are"
   ]
  },
  {
   "cell_type": "code",
   "execution_count": 8,
   "id": "efc8afc2-7699-428f-b0ec-73b68ec9ff1d",
   "metadata": {},
   "outputs": [
    {
     "data": {
      "text/plain": [
       "neighborhood\n",
       "Spring Hill-City View    25.0\n",
       "Central Oakland          43.0\n",
       "New Homestead            44.0\n",
       "Elliott                  45.0\n",
       "Lincoln Place            46.0\n",
       "Perry North              47.0\n",
       "Sheraden                 48.0\n",
       "Hazelwood                48.0\n",
       "Chartiers City           51.0\n",
       "Upper Hill               53.0\n",
       "Name: max_speed, dtype: float64"
      ]
     },
     "execution_count": 8,
     "metadata": {},
     "output_type": "execute_result"
    }
   ],
   "source": [
    "neighborhood_traffic.loc[neighborhood_traffic['max_speed'] > 0].sort_values(by='max_speed', ascending=True)['max_speed'].head(10)"
   ]
  },
  {
   "cell_type": "markdown",
   "id": "79fa65f8-d8b0-4081-9057-060bcbd0933a",
   "metadata": {},
   "source": [
    "### Submetric 3 Conclusion\n",
    "\n",
    "Based on the data, we can conclude that the South Side Flats have the least traffic and lowest average percentage over the speed limit, but have a high max speed. Lincoln Place, however, has low numbers in all three of these categories, making it the best neighborhood overall."
   ]
  },
  {
   "cell_type": "code",
   "execution_count": null,
   "id": "3a811455-2152-4af5-9357-16a936a557cd",
   "metadata": {},
   "outputs": [],
   "source": []
  }
 ],
 "metadata": {
  "kernelspec": {
   "display_name": "Python 3 (ipykernel)",
   "language": "python",
   "name": "python3"
  },
  "language_info": {
   "codemirror_mode": {
    "name": "ipython",
    "version": 3
   },
   "file_extension": ".py",
   "mimetype": "text/x-python",
   "name": "python",
   "nbconvert_exporter": "python",
   "pygments_lexer": "ipython3",
   "version": "3.12.4"
  }
 },
 "nbformat": 4,
 "nbformat_minor": 5
}
