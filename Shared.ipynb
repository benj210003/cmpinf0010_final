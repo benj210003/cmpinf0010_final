{
 "cells": [
  {
   "cell_type": "markdown",
   "id": "8c0ea968-bf8b-4b3d-b78d-4fe8ba02053b",
   "metadata": {},
   "source": [
    "# INTRODUCTION\n",
    "\n",
    "We will determine the best neighborhood in Pittsburgh by looking at the following submetrics\n",
    "\n",
    "1. Number of smart trash cans installed\n",
    "2. Number of fire reports per neighborhood\n",
    "3. Amount of traffic in each neighborhood\n",
    "\n",
    "Other metrics we will be using are averages and the amount per person."
   ]
  },
  {
   "cell_type": "code",
   "execution_count": 12,
   "id": "e3736bc2-262d-4962-86d5-09f9b2141cce",
   "metadata": {},
   "outputs": [],
   "source": [
    "#Setup\n",
    "import pandas as pd\n",
    "pd.set_option('display.max_rows', None)\n",
    "\n",
    "traffic = pd.read_csv(\"data/traffic_data.csv\", sep=\",\")\n",
    "trash = pd.read_csv(\"data/smart_trash_data.csv\", sep=\",\")\n",
    "population = pd.read_csv(\"data/population.csv\", sep=\",\")\n",
    "fire = pd.read_csv(\"data/fire_data.csv\", sep=\",\")"
   ]
  },
  {
   "cell_type": "markdown",
   "id": "4739ce59-b871-4606-a7a9-1693ac24334a",
   "metadata": {},
   "source": [
    "### Submetric 1: Cleanliness Innovations\n",
    "Walking down the streets of South Oakland, there is one thing that you will notice: trash. <br>\n",
    "You will see trashTrash \n",
    "- on the side of the street\n",
    "- coming out of trash cans\n",
    "- on people's front yards<br>\n",
    "\n",
    "__it's everywhere!__\n",
    "\n",
    "\n",
    "Fortunately, Pittsburgh is trying to decrease the amount of litter throughout the streets by installing smart trash containers. Smart trash containers are trash bins that contain sensors that will report when a bin is full and needs to be emptied. We will look at how many there are in the city, how many there are in each neighborhood, and the percentage of the smart containers that each neighborhood contains. We will then see the neighborhoods that have the most smart trash cans per person who lives there.\n",
    "\n"
   ]
  },
  {
   "cell_type": "code",
   "execution_count": 14,
   "id": "db75b3ea-9c30-43d7-ba09-169f6b6e5f1d",
   "metadata": {},
   "outputs": [
    {
     "name": "stdout",
     "output_type": "stream",
     "text": [
      "There are 1194 smart containers\n"
     ]
    }
   ],
   "source": [
    "# Total number of smart containers\n",
    "total_count = trash.shape[0]\n",
    "print(f\"There are {total_count} smart containers\")"
   ]
  },
  {
   "cell_type": "markdown",
   "id": "7e2ae266-3d20-40be-9f49-5cb723ccc010",
   "metadata": {},
   "source": [
    "The 10 neighborhoods with the most smart trash containers are"
   ]
  },
  {
   "cell_type": "code",
   "execution_count": 16,
   "id": "edf055d6-73fe-40e8-ac75-ad9d8dbf7fd4",
   "metadata": {},
   "outputs": [
    {
     "data": {
      "text/html": [
       "<div>\n",
       "<style scoped>\n",
       "    .dataframe tbody tr th:only-of-type {\n",
       "        vertical-align: middle;\n",
       "    }\n",
       "\n",
       "    .dataframe tbody tr th {\n",
       "        vertical-align: top;\n",
       "    }\n",
       "\n",
       "    .dataframe thead th {\n",
       "        text-align: right;\n",
       "    }\n",
       "</style>\n",
       "<table border=\"1\" class=\"dataframe\">\n",
       "  <thead>\n",
       "    <tr style=\"text-align: right;\">\n",
       "      <th></th>\n",
       "      <th>neighborhood</th>\n",
       "      <th>count</th>\n",
       "    </tr>\n",
       "  </thead>\n",
       "  <tbody>\n",
       "    <tr>\n",
       "      <th>57</th>\n",
       "      <td>Shadyside</td>\n",
       "      <td>76</td>\n",
       "    </tr>\n",
       "    <tr>\n",
       "      <th>25</th>\n",
       "      <td>East Liberty</td>\n",
       "      <td>68</td>\n",
       "    </tr>\n",
       "    <tr>\n",
       "      <th>66</th>\n",
       "      <td>Squirrel Hill South</td>\n",
       "      <td>63</td>\n",
       "    </tr>\n",
       "    <tr>\n",
       "      <th>8</th>\n",
       "      <td>Bloomfield</td>\n",
       "      <td>58</td>\n",
       "    </tr>\n",
       "    <tr>\n",
       "      <th>48</th>\n",
       "      <td>North Shore</td>\n",
       "      <td>53</td>\n",
       "    </tr>\n",
       "    <tr>\n",
       "      <th>61</th>\n",
       "      <td>South Side Flats</td>\n",
       "      <td>51</td>\n",
       "    </tr>\n",
       "    <tr>\n",
       "      <th>69</th>\n",
       "      <td>Strip District</td>\n",
       "      <td>42</td>\n",
       "    </tr>\n",
       "    <tr>\n",
       "      <th>13</th>\n",
       "      <td>Carrick</td>\n",
       "      <td>38</td>\n",
       "    </tr>\n",
       "    <tr>\n",
       "      <th>17</th>\n",
       "      <td>Central Oakland</td>\n",
       "      <td>34</td>\n",
       "    </tr>\n",
       "    <tr>\n",
       "      <th>40</th>\n",
       "      <td>Lower Lawrenceville</td>\n",
       "      <td>29</td>\n",
       "    </tr>\n",
       "  </tbody>\n",
       "</table>\n",
       "</div>"
      ],
      "text/plain": [
       "           neighborhood  count\n",
       "57            Shadyside     76\n",
       "25         East Liberty     68\n",
       "66  Squirrel Hill South     63\n",
       "8            Bloomfield     58\n",
       "48          North Shore     53\n",
       "61     South Side Flats     51\n",
       "69       Strip District     42\n",
       "13              Carrick     38\n",
       "17      Central Oakland     34\n",
       "40  Lower Lawrenceville     29"
      ]
     },
     "execution_count": 16,
     "metadata": {},
     "output_type": "execute_result"
    }
   ],
   "source": [
    "neighborhood_counts = trash.groupby('neighborhood').size().reset_index(name='count')\n",
    "neighborhood_counts.sort_values(by='count', ascending=False).head(10)"
   ]
  },
  {
   "cell_type": "markdown",
   "id": "100c8ce8-44ea-4fea-aaf2-297c277db3c2",
   "metadata": {},
   "source": [
    "Here are the top 10 neighborhoods by percentage of the trash containers"
   ]
  },
  {
   "cell_type": "code",
   "execution_count": 18,
   "id": "cee26028-c9bc-47ba-adfb-3420ccd3ab98",
   "metadata": {},
   "outputs": [
    {
     "data": {
      "text/html": [
       "<div>\n",
       "<style scoped>\n",
       "    .dataframe tbody tr th:only-of-type {\n",
       "        vertical-align: middle;\n",
       "    }\n",
       "\n",
       "    .dataframe tbody tr th {\n",
       "        vertical-align: top;\n",
       "    }\n",
       "\n",
       "    .dataframe thead th {\n",
       "        text-align: right;\n",
       "    }\n",
       "</style>\n",
       "<table border=\"1\" class=\"dataframe\">\n",
       "  <thead>\n",
       "    <tr style=\"text-align: right;\">\n",
       "      <th></th>\n",
       "      <th>neighborhood</th>\n",
       "      <th>count</th>\n",
       "      <th>percentage</th>\n",
       "    </tr>\n",
       "  </thead>\n",
       "  <tbody>\n",
       "    <tr>\n",
       "      <th>57</th>\n",
       "      <td>Shadyside</td>\n",
       "      <td>76</td>\n",
       "      <td>6.37</td>\n",
       "    </tr>\n",
       "    <tr>\n",
       "      <th>25</th>\n",
       "      <td>East Liberty</td>\n",
       "      <td>68</td>\n",
       "      <td>5.70</td>\n",
       "    </tr>\n",
       "    <tr>\n",
       "      <th>66</th>\n",
       "      <td>Squirrel Hill South</td>\n",
       "      <td>63</td>\n",
       "      <td>5.28</td>\n",
       "    </tr>\n",
       "    <tr>\n",
       "      <th>8</th>\n",
       "      <td>Bloomfield</td>\n",
       "      <td>58</td>\n",
       "      <td>4.86</td>\n",
       "    </tr>\n",
       "    <tr>\n",
       "      <th>48</th>\n",
       "      <td>North Shore</td>\n",
       "      <td>53</td>\n",
       "      <td>4.44</td>\n",
       "    </tr>\n",
       "    <tr>\n",
       "      <th>61</th>\n",
       "      <td>South Side Flats</td>\n",
       "      <td>51</td>\n",
       "      <td>4.27</td>\n",
       "    </tr>\n",
       "    <tr>\n",
       "      <th>69</th>\n",
       "      <td>Strip District</td>\n",
       "      <td>42</td>\n",
       "      <td>3.52</td>\n",
       "    </tr>\n",
       "    <tr>\n",
       "      <th>13</th>\n",
       "      <td>Carrick</td>\n",
       "      <td>38</td>\n",
       "      <td>3.18</td>\n",
       "    </tr>\n",
       "    <tr>\n",
       "      <th>17</th>\n",
       "      <td>Central Oakland</td>\n",
       "      <td>34</td>\n",
       "      <td>2.85</td>\n",
       "    </tr>\n",
       "    <tr>\n",
       "      <th>40</th>\n",
       "      <td>Lower Lawrenceville</td>\n",
       "      <td>29</td>\n",
       "      <td>2.43</td>\n",
       "    </tr>\n",
       "  </tbody>\n",
       "</table>\n",
       "</div>"
      ],
      "text/plain": [
       "           neighborhood  count  percentage\n",
       "57            Shadyside     76        6.37\n",
       "25         East Liberty     68        5.70\n",
       "66  Squirrel Hill South     63        5.28\n",
       "8            Bloomfield     58        4.86\n",
       "48          North Shore     53        4.44\n",
       "61     South Side Flats     51        4.27\n",
       "69       Strip District     42        3.52\n",
       "13              Carrick     38        3.18\n",
       "17      Central Oakland     34        2.85\n",
       "40  Lower Lawrenceville     29        2.43"
      ]
     },
     "execution_count": 18,
     "metadata": {},
     "output_type": "execute_result"
    }
   ],
   "source": [
    "neighborhood_counts['percentage'] = round((neighborhood_counts['count'] / total_count), 4) * 100\n",
    "neighborhood_counts.sort_values(by='count', ascending=False).head(10)"
   ]
  },
  {
   "cell_type": "code",
   "execution_count": 19,
   "id": "1c8af2e2-d8f5-4170-aa7c-2e44c38bd89a",
   "metadata": {},
   "outputs": [
    {
     "data": {
      "text/html": [
       "<div>\n",
       "<style scoped>\n",
       "    .dataframe tbody tr th:only-of-type {\n",
       "        vertical-align: middle;\n",
       "    }\n",
       "\n",
       "    .dataframe tbody tr th {\n",
       "        vertical-align: top;\n",
       "    }\n",
       "\n",
       "    .dataframe thead th {\n",
       "        text-align: right;\n",
       "    }\n",
       "</style>\n",
       "<table border=\"1\" class=\"dataframe\">\n",
       "  <thead>\n",
       "    <tr style=\"text-align: right;\">\n",
       "      <th></th>\n",
       "      <th>neighborhood</th>\n",
       "      <th>count</th>\n",
       "      <th>percentage</th>\n",
       "    </tr>\n",
       "  </thead>\n",
       "  <tbody>\n",
       "    <tr>\n",
       "      <th>78</th>\n",
       "      <td>Windgap</td>\n",
       "      <td>1</td>\n",
       "      <td>0.08</td>\n",
       "    </tr>\n",
       "    <tr>\n",
       "      <th>23</th>\n",
       "      <td>East Carnegie</td>\n",
       "      <td>1</td>\n",
       "      <td>0.08</td>\n",
       "    </tr>\n",
       "    <tr>\n",
       "      <th>70</th>\n",
       "      <td>Swisshelm Park</td>\n",
       "      <td>1</td>\n",
       "      <td>0.08</td>\n",
       "    </tr>\n",
       "    <tr>\n",
       "      <th>5</th>\n",
       "      <td>Bedford Dwellings</td>\n",
       "      <td>1</td>\n",
       "      <td>0.08</td>\n",
       "    </tr>\n",
       "    <tr>\n",
       "      <th>67</th>\n",
       "      <td>St. Clair</td>\n",
       "      <td>1</td>\n",
       "      <td>0.08</td>\n",
       "    </tr>\n",
       "    <tr>\n",
       "      <th>46</th>\n",
       "      <td>Mt. Oliver</td>\n",
       "      <td>1</td>\n",
       "      <td>0.08</td>\n",
       "    </tr>\n",
       "    <tr>\n",
       "      <th>49</th>\n",
       "      <td>Northview Heights</td>\n",
       "      <td>1</td>\n",
       "      <td>0.08</td>\n",
       "    </tr>\n",
       "    <tr>\n",
       "      <th>60</th>\n",
       "      <td>South Shore</td>\n",
       "      <td>1</td>\n",
       "      <td>0.08</td>\n",
       "    </tr>\n",
       "    <tr>\n",
       "      <th>50</th>\n",
       "      <td>Oakwood</td>\n",
       "      <td>1</td>\n",
       "      <td>0.08</td>\n",
       "    </tr>\n",
       "    <tr>\n",
       "      <th>4</th>\n",
       "      <td>Banksville</td>\n",
       "      <td>2</td>\n",
       "      <td>0.17</td>\n",
       "    </tr>\n",
       "  </tbody>\n",
       "</table>\n",
       "</div>"
      ],
      "text/plain": [
       "         neighborhood  count  percentage\n",
       "78            Windgap      1        0.08\n",
       "23      East Carnegie      1        0.08\n",
       "70     Swisshelm Park      1        0.08\n",
       "5   Bedford Dwellings      1        0.08\n",
       "67          St. Clair      1        0.08\n",
       "46         Mt. Oliver      1        0.08\n",
       "49  Northview Heights      1        0.08\n",
       "60        South Shore      1        0.08\n",
       "50            Oakwood      1        0.08\n",
       "4          Banksville      2        0.17"
      ]
     },
     "execution_count": 19,
     "metadata": {},
     "output_type": "execute_result"
    }
   ],
   "source": [
    "neighborhood_counts.sort_values(by='count').head(10)"
   ]
  },
  {
   "cell_type": "code",
   "execution_count": 20,
   "id": "d617ec85-f78d-473e-a77e-7993b73c8d97",
   "metadata": {},
   "outputs": [
    {
     "data": {
      "text/html": [
       "<div>\n",
       "<style scoped>\n",
       "    .dataframe tbody tr th:only-of-type {\n",
       "        vertical-align: middle;\n",
       "    }\n",
       "\n",
       "    .dataframe tbody tr th {\n",
       "        vertical-align: top;\n",
       "    }\n",
       "\n",
       "    .dataframe thead th {\n",
       "        text-align: right;\n",
       "    }\n",
       "</style>\n",
       "<table border=\"1\" class=\"dataframe\">\n",
       "  <thead>\n",
       "    <tr style=\"text-align: right;\">\n",
       "      <th></th>\n",
       "      <th>neighborhood</th>\n",
       "      <th>count</th>\n",
       "      <th>2020_Total_Population</th>\n",
       "      <th>people per container</th>\n",
       "    </tr>\n",
       "  </thead>\n",
       "  <tbody>\n",
       "    <tr>\n",
       "      <th>16</th>\n",
       "      <td>Chateau</td>\n",
       "      <td>5</td>\n",
       "      <td>19</td>\n",
       "      <td>3.800000</td>\n",
       "    </tr>\n",
       "    <tr>\n",
       "      <th>46</th>\n",
       "      <td>North Shore</td>\n",
       "      <td>53</td>\n",
       "      <td>301</td>\n",
       "      <td>5.679245</td>\n",
       "    </tr>\n",
       "    <tr>\n",
       "      <th>72</th>\n",
       "      <td>West End</td>\n",
       "      <td>9</td>\n",
       "      <td>205</td>\n",
       "      <td>22.777778</td>\n",
       "    </tr>\n",
       "    <tr>\n",
       "      <th>58</th>\n",
       "      <td>South Shore</td>\n",
       "      <td>1</td>\n",
       "      <td>29</td>\n",
       "      <td>29.000000</td>\n",
       "    </tr>\n",
       "    <tr>\n",
       "      <th>1</th>\n",
       "      <td>Allegheny West</td>\n",
       "      <td>15</td>\n",
       "      <td>540</td>\n",
       "      <td>36.000000</td>\n",
       "    </tr>\n",
       "    <tr>\n",
       "      <th>66</th>\n",
       "      <td>Strip District</td>\n",
       "      <td>42</td>\n",
       "      <td>1845</td>\n",
       "      <td>43.928571</td>\n",
       "    </tr>\n",
       "    <tr>\n",
       "      <th>41</th>\n",
       "      <td>Middle Hill</td>\n",
       "      <td>29</td>\n",
       "      <td>1757</td>\n",
       "      <td>60.586207</td>\n",
       "    </tr>\n",
       "    <tr>\n",
       "      <th>20</th>\n",
       "      <td>East Allegheny</td>\n",
       "      <td>26</td>\n",
       "      <td>1903</td>\n",
       "      <td>73.192308</td>\n",
       "    </tr>\n",
       "    <tr>\n",
       "      <th>35</th>\n",
       "      <td>Larimer</td>\n",
       "      <td>20</td>\n",
       "      <td>1545</td>\n",
       "      <td>77.250000</td>\n",
       "    </tr>\n",
       "    <tr>\n",
       "      <th>32</th>\n",
       "      <td>Homewood South</td>\n",
       "      <td>28</td>\n",
       "      <td>2260</td>\n",
       "      <td>80.714286</td>\n",
       "    </tr>\n",
       "  </tbody>\n",
       "</table>\n",
       "</div>"
      ],
      "text/plain": [
       "      neighborhood  count  2020_Total_Population  people per container\n",
       "16         Chateau      5                     19              3.800000\n",
       "46     North Shore     53                    301              5.679245\n",
       "72        West End      9                    205             22.777778\n",
       "58     South Shore      1                     29             29.000000\n",
       "1   Allegheny West     15                    540             36.000000\n",
       "66  Strip District     42                   1845             43.928571\n",
       "41     Middle Hill     29                   1757             60.586207\n",
       "20  East Allegheny     26                   1903             73.192308\n",
       "35         Larimer     20                   1545             77.250000\n",
       "32  Homewood South     28                   2260             80.714286"
      ]
     },
     "execution_count": 20,
     "metadata": {},
     "output_type": "execute_result"
    }
   ],
   "source": [
    "merged = pd.merge(neighborhood_counts, population, left_on='neighborhood', right_on='Neighborhood', how='inner')\n",
    "\n",
    "merged['people per container'] = merged['2020_Total_Population']/merged['count']\n",
    "merged.sort_values(by='people per container')\n",
    "merged[['neighborhood','count','2020_Total_Population','people per container']].sort_values(by='people per container').head(10)"
   ]
  },
  {
   "cell_type": "markdown",
   "id": "b1ea0dd8-ac35-47c1-9cfa-311bc9e4a4bd",
   "metadata": {},
   "source": [
    "We can see that Shadyside has 76 containers, which is 6.37% of the overall smart containers installed. We also see that within the top 10, neighborhoods contain anywhere between about 2.5% of the trashcans to around 6.4%. We can also see that the 9 least included neighborhoods only received 1 trashcan each, which is less than .01% of the total number installed. We can see that some neighborhoods have more trash cans per person, meaning that a place like the Strip District or North Shore would be the best option"
   ]
  },
  {
   "cell_type": "markdown",
   "id": "a9f86093-4b1d-41fc-81b1-3dc6cd8dc850",
   "metadata": {},
   "source": [
    "We will now visualize the data. Using a bar graph, we can see that Shadyside and East Liberty have the most amount of smart trash cans, and the amount per neighborhood decreases at a linear rate."
   ]
  },
  {
   "cell_type": "code",
   "execution_count": 23,
   "id": "2f18ecac-7460-4a93-9536-df48c96a11b6",
   "metadata": {},
   "outputs": [
    {
     "data": {
      "text/plain": [
       "Text(0.5, 1.0, 'Count of fire reports')"
      ]
     },
     "execution_count": 23,
     "metadata": {},
     "output_type": "execute_result"
    },
    {
     "data": {
      "image/png": "[encoded data removed]",
      "text/plain": [
       "<Figure size 640x480 with 1 Axes>"
      ]
     },
     "metadata": {},
     "output_type": "display_data"
    }
   ],
   "source": [
    "import matplotlib.pyplot as plt\n",
    "plotted = neighborhood_counts.sort_values(by='count', ascending=False).head(20)\n",
    "\n",
    "plotted.plot(kind='bar', x='neighborhood', y='count', legend=False)\n",
    "plt.title(\"Count of fire reports\")"
   ]
  },
  {
   "cell_type": "markdown",
   "id": "b743b602-9f35-46ed-b75f-bf44cb41693b",
   "metadata": {},
   "source": [
    "### Submetric 1 Conclusion\n",
    "\n",
    "We can conclude that of the almost 1200 smart containers installed by Pittsburgh, they are not evenly distributed throughout the city. Shadyside, East Liberty, and Squirrel Hill received the most amount of trash cans, so hopefully they will have the least amount of litter in teh future. However, we can see that the North Shore and West End are two of the neighborhoods with the a population greater than 100 with the most trash cans per person."
   ]
  },
  {
   "cell_type": "markdown",
   "id": "136443c0-86d6-45ff-ba9a-111600122aec",
   "metadata": {},
   "source": [
    "### Submetric 2: Fire Safety\n",
    "If there's one thing I don't want to do its light on fire. We will look at recent fire statistics to measure where the most amount of fire related emergency responses are made."
   ]
  },
  {
   "cell_type": "code",
   "execution_count": 26,
   "id": "1461c72e-caa2-4444-b884-45637525cf6b",
   "metadata": {},
   "outputs": [
    {
     "name": "stdout",
     "output_type": "stream",
     "text": [
      "Our start date is 2013-01-02 23:34:05\n",
      "Our end date is 2024-11-01 21:03:43\n"
     ]
    }
   ],
   "source": [
    "fire['alarm_time'] = pd.to_datetime(fire['alarm_time'])\n",
    "lowest_date = fire['alarm_time'].min()\n",
    "highest_date = fire['alarm_time'].max()\n",
    "print(f\"Our start date is {lowest_date}\")\n",
    "print(f\"Our end date is {highest_date}\")"
   ]
  },
  {
   "cell_type": "code",
   "execution_count": 27,
   "id": "25f117ea-2d89-49f6-9879-036bcf371d2c",
   "metadata": {},
   "outputs": [
    {
     "name": "stdout",
     "output_type": "stream",
     "text": [
      "There were 10208 fire calls\n"
     ]
    }
   ],
   "source": [
    "# Total number of smart containers\n",
    "total_count = fire.shape[0]\n",
    "print(f\"There were {total_count} fire calls\")"
   ]
  },
  {
   "cell_type": "code",
   "execution_count": 28,
   "id": "a32e3088-008a-4f09-bb42-ee2774e90e04",
   "metadata": {},
   "outputs": [
    {
     "data": {
      "text/html": [
       "<div>\n",
       "<style scoped>\n",
       "    .dataframe tbody tr th:only-of-type {\n",
       "        vertical-align: middle;\n",
       "    }\n",
       "\n",
       "    .dataframe tbody tr th {\n",
       "        vertical-align: top;\n",
       "    }\n",
       "\n",
       "    .dataframe thead th {\n",
       "        text-align: right;\n",
       "    }\n",
       "</style>\n",
       "<table border=\"1\" class=\"dataframe\">\n",
       "  <thead>\n",
       "    <tr style=\"text-align: right;\">\n",
       "      <th></th>\n",
       "      <th>neighborhood</th>\n",
       "      <th>count</th>\n",
       "    </tr>\n",
       "  </thead>\n",
       "  <tbody>\n",
       "    <tr>\n",
       "      <th>15</th>\n",
       "      <td>Carrick</td>\n",
       "      <td>307</td>\n",
       "    </tr>\n",
       "    <tr>\n",
       "      <th>16</th>\n",
       "      <td>Central Business District</td>\n",
       "      <td>289</td>\n",
       "    </tr>\n",
       "    <tr>\n",
       "      <th>72</th>\n",
       "      <td>South Side Flats</td>\n",
       "      <td>288</td>\n",
       "    </tr>\n",
       "    <tr>\n",
       "      <th>77</th>\n",
       "      <td>Squirrel Hill South</td>\n",
       "      <td>267</td>\n",
       "    </tr>\n",
       "    <tr>\n",
       "      <th>38</th>\n",
       "      <td>Hazelwood</td>\n",
       "      <td>257</td>\n",
       "    </tr>\n",
       "    <tr>\n",
       "      <th>53</th>\n",
       "      <td>Mount Washington</td>\n",
       "      <td>231</td>\n",
       "    </tr>\n",
       "    <tr>\n",
       "      <th>28</th>\n",
       "      <td>East Liberty</td>\n",
       "      <td>220</td>\n",
       "    </tr>\n",
       "    <tr>\n",
       "      <th>13</th>\n",
       "      <td>Brookline</td>\n",
       "      <td>203</td>\n",
       "    </tr>\n",
       "    <tr>\n",
       "      <th>41</th>\n",
       "      <td>Homewood South</td>\n",
       "      <td>202</td>\n",
       "    </tr>\n",
       "    <tr>\n",
       "      <th>46</th>\n",
       "      <td>Lincoln-Lemington-Belmar</td>\n",
       "      <td>199</td>\n",
       "    </tr>\n",
       "  </tbody>\n",
       "</table>\n",
       "</div>"
      ],
      "text/plain": [
       "                 neighborhood  count\n",
       "15                    Carrick    307\n",
       "16  Central Business District    289\n",
       "72           South Side Flats    288\n",
       "77        Squirrel Hill South    267\n",
       "38                  Hazelwood    257\n",
       "53           Mount Washington    231\n",
       "28               East Liberty    220\n",
       "13                  Brookline    203\n",
       "41             Homewood South    202\n",
       "46   Lincoln-Lemington-Belmar    199"
      ]
     },
     "execution_count": 28,
     "metadata": {},
     "output_type": "execute_result"
    }
   ],
   "source": [
    "neighborhood_counts = fire.groupby('neighborhood').size().reset_index(name='count')\n",
    "neighborhood_counts.sort_values(by='count', ascending=False).head(10)"
   ]
  },
  {
   "cell_type": "code",
   "execution_count": 29,
   "id": "af801a4c-a668-4016-9da0-0c182ba14d83",
   "metadata": {},
   "outputs": [
    {
     "data": {
      "text/html": [
       "<div>\n",
       "<style scoped>\n",
       "    .dataframe tbody tr th:only-of-type {\n",
       "        vertical-align: middle;\n",
       "    }\n",
       "\n",
       "    .dataframe tbody tr th {\n",
       "        vertical-align: top;\n",
       "    }\n",
       "\n",
       "    .dataframe thead th {\n",
       "        text-align: right;\n",
       "    }\n",
       "</style>\n",
       "<table border=\"1\" class=\"dataframe\">\n",
       "  <thead>\n",
       "    <tr style=\"text-align: right;\">\n",
       "      <th></th>\n",
       "      <th>neighborhood</th>\n",
       "      <th>count</th>\n",
       "    </tr>\n",
       "  </thead>\n",
       "  <tbody>\n",
       "    <tr>\n",
       "      <th>52</th>\n",
       "      <td>Mount Oliver Borough</td>\n",
       "      <td>6</td>\n",
       "    </tr>\n",
       "    <tr>\n",
       "      <th>66</th>\n",
       "      <td>Regent Square</td>\n",
       "      <td>9</td>\n",
       "    </tr>\n",
       "    <tr>\n",
       "      <th>26</th>\n",
       "      <td>East Carnegie</td>\n",
       "      <td>11</td>\n",
       "    </tr>\n",
       "    <tr>\n",
       "      <th>67</th>\n",
       "      <td>Ridgemont</td>\n",
       "      <td>12</td>\n",
       "    </tr>\n",
       "    <tr>\n",
       "      <th>54</th>\n",
       "      <td>Mt. Oliver</td>\n",
       "      <td>12</td>\n",
       "    </tr>\n",
       "    <tr>\n",
       "      <th>59</th>\n",
       "      <td>Oakwood</td>\n",
       "      <td>13</td>\n",
       "    </tr>\n",
       "    <tr>\n",
       "      <th>4</th>\n",
       "      <td>Arlington Heights</td>\n",
       "      <td>13</td>\n",
       "    </tr>\n",
       "    <tr>\n",
       "      <th>78</th>\n",
       "      <td>St. Clair</td>\n",
       "      <td>14</td>\n",
       "    </tr>\n",
       "    <tr>\n",
       "      <th>82</th>\n",
       "      <td>Swisshelm Park</td>\n",
       "      <td>17</td>\n",
       "    </tr>\n",
       "    <tr>\n",
       "      <th>20</th>\n",
       "      <td>Chartiers City</td>\n",
       "      <td>18</td>\n",
       "    </tr>\n",
       "  </tbody>\n",
       "</table>\n",
       "</div>"
      ],
      "text/plain": [
       "            neighborhood  count\n",
       "52  Mount Oliver Borough      6\n",
       "66         Regent Square      9\n",
       "26         East Carnegie     11\n",
       "67             Ridgemont     12\n",
       "54            Mt. Oliver     12\n",
       "59               Oakwood     13\n",
       "4      Arlington Heights     13\n",
       "78             St. Clair     14\n",
       "82        Swisshelm Park     17\n",
       "20        Chartiers City     18"
      ]
     },
     "execution_count": 29,
     "metadata": {},
     "output_type": "execute_result"
    }
   ],
   "source": [
    "neighborhood_counts.sort_values(by='count').head(10)"
   ]
  },
  {
   "cell_type": "code",
   "execution_count": 30,
   "id": "84753fd2-8cca-4652-bd3e-4dc798d41e61",
   "metadata": {},
   "outputs": [
    {
     "data": {
      "text/html": [
       "<div>\n",
       "<style scoped>\n",
       "    .dataframe tbody tr th:only-of-type {\n",
       "        vertical-align: middle;\n",
       "    }\n",
       "\n",
       "    .dataframe tbody tr th {\n",
       "        vertical-align: top;\n",
       "    }\n",
       "\n",
       "    .dataframe thead th {\n",
       "        text-align: right;\n",
       "    }\n",
       "</style>\n",
       "<table border=\"1\" class=\"dataframe\">\n",
       "  <thead>\n",
       "    <tr style=\"text-align: right;\">\n",
       "      <th></th>\n",
       "      <th>neighborhood</th>\n",
       "      <th>count</th>\n",
       "      <th>percentage</th>\n",
       "    </tr>\n",
       "  </thead>\n",
       "  <tbody>\n",
       "    <tr>\n",
       "      <th>15</th>\n",
       "      <td>Carrick</td>\n",
       "      <td>307</td>\n",
       "      <td>3.01</td>\n",
       "    </tr>\n",
       "    <tr>\n",
       "      <th>16</th>\n",
       "      <td>Central Business District</td>\n",
       "      <td>289</td>\n",
       "      <td>2.83</td>\n",
       "    </tr>\n",
       "    <tr>\n",
       "      <th>72</th>\n",
       "      <td>South Side Flats</td>\n",
       "      <td>288</td>\n",
       "      <td>2.82</td>\n",
       "    </tr>\n",
       "    <tr>\n",
       "      <th>77</th>\n",
       "      <td>Squirrel Hill South</td>\n",
       "      <td>267</td>\n",
       "      <td>2.62</td>\n",
       "    </tr>\n",
       "    <tr>\n",
       "      <th>38</th>\n",
       "      <td>Hazelwood</td>\n",
       "      <td>257</td>\n",
       "      <td>2.52</td>\n",
       "    </tr>\n",
       "    <tr>\n",
       "      <th>53</th>\n",
       "      <td>Mount Washington</td>\n",
       "      <td>231</td>\n",
       "      <td>2.26</td>\n",
       "    </tr>\n",
       "    <tr>\n",
       "      <th>28</th>\n",
       "      <td>East Liberty</td>\n",
       "      <td>220</td>\n",
       "      <td>2.16</td>\n",
       "    </tr>\n",
       "    <tr>\n",
       "      <th>13</th>\n",
       "      <td>Brookline</td>\n",
       "      <td>203</td>\n",
       "      <td>1.99</td>\n",
       "    </tr>\n",
       "    <tr>\n",
       "      <th>41</th>\n",
       "      <td>Homewood South</td>\n",
       "      <td>202</td>\n",
       "      <td>1.98</td>\n",
       "    </tr>\n",
       "    <tr>\n",
       "      <th>46</th>\n",
       "      <td>Lincoln-Lemington-Belmar</td>\n",
       "      <td>199</td>\n",
       "      <td>1.95</td>\n",
       "    </tr>\n",
       "  </tbody>\n",
       "</table>\n",
       "</div>"
      ],
      "text/plain": [
       "                 neighborhood  count  percentage\n",
       "15                    Carrick    307        3.01\n",
       "16  Central Business District    289        2.83\n",
       "72           South Side Flats    288        2.82\n",
       "77        Squirrel Hill South    267        2.62\n",
       "38                  Hazelwood    257        2.52\n",
       "53           Mount Washington    231        2.26\n",
       "28               East Liberty    220        2.16\n",
       "13                  Brookline    203        1.99\n",
       "41             Homewood South    202        1.98\n",
       "46   Lincoln-Lemington-Belmar    199        1.95"
      ]
     },
     "execution_count": 30,
     "metadata": {},
     "output_type": "execute_result"
    }
   ],
   "source": [
    "neighborhood_counts['percentage'] = round((neighborhood_counts['count'] / total_count), 4) * 100\n",
    "neighborhood_counts.sort_values(by='count', ascending=False).head(10)"
   ]
  },
  {
   "cell_type": "code",
   "execution_count": 31,
   "id": "7b63daf2-2709-429e-baea-b972d55414ec",
   "metadata": {},
   "outputs": [
    {
     "data": {
      "text/html": [
       "<div>\n",
       "<style scoped>\n",
       "    .dataframe tbody tr th:only-of-type {\n",
       "        vertical-align: middle;\n",
       "    }\n",
       "\n",
       "    .dataframe tbody tr th {\n",
       "        vertical-align: top;\n",
       "    }\n",
       "\n",
       "    .dataframe thead th {\n",
       "        text-align: right;\n",
       "    }\n",
       "</style>\n",
       "<table border=\"1\" class=\"dataframe\">\n",
       "  <thead>\n",
       "    <tr style=\"text-align: right;\">\n",
       "      <th></th>\n",
       "      <th>neighborhood</th>\n",
       "      <th>count</th>\n",
       "      <th>percentage</th>\n",
       "    </tr>\n",
       "  </thead>\n",
       "  <tbody>\n",
       "    <tr>\n",
       "      <th>52</th>\n",
       "      <td>Mount Oliver Borough</td>\n",
       "      <td>6</td>\n",
       "      <td>0.06</td>\n",
       "    </tr>\n",
       "    <tr>\n",
       "      <th>66</th>\n",
       "      <td>Regent Square</td>\n",
       "      <td>9</td>\n",
       "      <td>0.09</td>\n",
       "    </tr>\n",
       "    <tr>\n",
       "      <th>26</th>\n",
       "      <td>East Carnegie</td>\n",
       "      <td>11</td>\n",
       "      <td>0.11</td>\n",
       "    </tr>\n",
       "    <tr>\n",
       "      <th>67</th>\n",
       "      <td>Ridgemont</td>\n",
       "      <td>12</td>\n",
       "      <td>0.12</td>\n",
       "    </tr>\n",
       "    <tr>\n",
       "      <th>54</th>\n",
       "      <td>Mt. Oliver</td>\n",
       "      <td>12</td>\n",
       "      <td>0.12</td>\n",
       "    </tr>\n",
       "    <tr>\n",
       "      <th>59</th>\n",
       "      <td>Oakwood</td>\n",
       "      <td>13</td>\n",
       "      <td>0.13</td>\n",
       "    </tr>\n",
       "    <tr>\n",
       "      <th>4</th>\n",
       "      <td>Arlington Heights</td>\n",
       "      <td>13</td>\n",
       "      <td>0.13</td>\n",
       "    </tr>\n",
       "    <tr>\n",
       "      <th>78</th>\n",
       "      <td>St. Clair</td>\n",
       "      <td>14</td>\n",
       "      <td>0.14</td>\n",
       "    </tr>\n",
       "    <tr>\n",
       "      <th>82</th>\n",
       "      <td>Swisshelm Park</td>\n",
       "      <td>17</td>\n",
       "      <td>0.17</td>\n",
       "    </tr>\n",
       "    <tr>\n",
       "      <th>20</th>\n",
       "      <td>Chartiers City</td>\n",
       "      <td>18</td>\n",
       "      <td>0.18</td>\n",
       "    </tr>\n",
       "  </tbody>\n",
       "</table>\n",
       "</div>"
      ],
      "text/plain": [
       "            neighborhood  count  percentage\n",
       "52  Mount Oliver Borough      6        0.06\n",
       "66         Regent Square      9        0.09\n",
       "26         East Carnegie     11        0.11\n",
       "67             Ridgemont     12        0.12\n",
       "54            Mt. Oliver     12        0.12\n",
       "59               Oakwood     13        0.13\n",
       "4      Arlington Heights     13        0.13\n",
       "78             St. Clair     14        0.14\n",
       "82        Swisshelm Park     17        0.17\n",
       "20        Chartiers City     18        0.18"
      ]
     },
     "execution_count": 31,
     "metadata": {},
     "output_type": "execute_result"
    }
   ],
   "source": [
    "neighborhood_counts.sort_values(by='count').head(10)"
   ]
  },
  {
   "cell_type": "code",
   "execution_count": 32,
   "id": "9728e735-a79f-4723-b0a6-c28d09432afb",
   "metadata": {},
   "outputs": [
    {
     "data": {
      "text/html": [
       "<div>\n",
       "<style scoped>\n",
       "    .dataframe tbody tr th:only-of-type {\n",
       "        vertical-align: middle;\n",
       "    }\n",
       "\n",
       "    .dataframe tbody tr th {\n",
       "        vertical-align: top;\n",
       "    }\n",
       "\n",
       "    .dataframe thead th {\n",
       "        text-align: right;\n",
       "    }\n",
       "</style>\n",
       "<table border=\"1\" class=\"dataframe\">\n",
       "  <thead>\n",
       "    <tr style=\"text-align: right;\">\n",
       "      <th></th>\n",
       "      <th>neighborhood</th>\n",
       "      <th>count</th>\n",
       "      <th>2020_Total_Population</th>\n",
       "      <th>fires per person</th>\n",
       "    </tr>\n",
       "  </thead>\n",
       "  <tbody>\n",
       "    <tr>\n",
       "      <th>84</th>\n",
       "      <td>Westwood</td>\n",
       "      <td>28</td>\n",
       "      <td>3332</td>\n",
       "      <td>0.008403</td>\n",
       "    </tr>\n",
       "    <tr>\n",
       "      <th>62</th>\n",
       "      <td>Regent Square</td>\n",
       "      <td>9</td>\n",
       "      <td>971</td>\n",
       "      <td>0.009269</td>\n",
       "    </tr>\n",
       "    <tr>\n",
       "      <th>48</th>\n",
       "      <td>Morningside</td>\n",
       "      <td>35</td>\n",
       "      <td>3252</td>\n",
       "      <td>0.010763</td>\n",
       "    </tr>\n",
       "    <tr>\n",
       "      <th>71</th>\n",
       "      <td>Squirrel Hill North</td>\n",
       "      <td>136</td>\n",
       "      <td>11879</td>\n",
       "      <td>0.011449</td>\n",
       "    </tr>\n",
       "    <tr>\n",
       "      <th>52</th>\n",
       "      <td>North Oakland</td>\n",
       "      <td>133</td>\n",
       "      <td>10691</td>\n",
       "      <td>0.012440</td>\n",
       "    </tr>\n",
       "    <tr>\n",
       "      <th>64</th>\n",
       "      <td>Shadyside</td>\n",
       "      <td>193</td>\n",
       "      <td>15317</td>\n",
       "      <td>0.012600</td>\n",
       "    </tr>\n",
       "    <tr>\n",
       "      <th>36</th>\n",
       "      <td>Highland Park</td>\n",
       "      <td>79</td>\n",
       "      <td>6235</td>\n",
       "      <td>0.012670</td>\n",
       "    </tr>\n",
       "    <tr>\n",
       "      <th>55</th>\n",
       "      <td>Oakwood</td>\n",
       "      <td>13</td>\n",
       "      <td>1025</td>\n",
       "      <td>0.012683</td>\n",
       "    </tr>\n",
       "    <tr>\n",
       "      <th>77</th>\n",
       "      <td>Swisshelm Park</td>\n",
       "      <td>17</td>\n",
       "      <td>1339</td>\n",
       "      <td>0.012696</td>\n",
       "    </tr>\n",
       "    <tr>\n",
       "      <th>59</th>\n",
       "      <td>Point Breeze</td>\n",
       "      <td>72</td>\n",
       "      <td>5348</td>\n",
       "      <td>0.013463</td>\n",
       "    </tr>\n",
       "  </tbody>\n",
       "</table>\n",
       "</div>"
      ],
      "text/plain": [
       "           neighborhood  count  2020_Total_Population  fires per person\n",
       "84             Westwood     28                   3332          0.008403\n",
       "62        Regent Square      9                    971          0.009269\n",
       "48          Morningside     35                   3252          0.010763\n",
       "71  Squirrel Hill North    136                  11879          0.011449\n",
       "52        North Oakland    133                  10691          0.012440\n",
       "64            Shadyside    193                  15317          0.012600\n",
       "36        Highland Park     79                   6235          0.012670\n",
       "55              Oakwood     13                   1025          0.012683\n",
       "77       Swisshelm Park     17                   1339          0.012696\n",
       "59         Point Breeze     72                   5348          0.013463"
      ]
     },
     "execution_count": 32,
     "metadata": {},
     "output_type": "execute_result"
    }
   ],
   "source": [
    "merged = pd.merge(neighborhood_counts, population, left_on='neighborhood', right_on='Neighborhood', how='inner')\n",
    "\n",
    "merged['fires per person'] = round(merged['count']/merged['2020_Total_Population'], 6)\n",
    "merged.sort_values(by='fires per person')\n",
    "merged[['neighborhood','count','2020_Total_Population','fires per person']].sort_values(by='fires per person').head(10)"
   ]
  },
  {
   "cell_type": "markdown",
   "id": "f8d791bd-3fad-4c5a-90e6-5dfb98f1e2bb",
   "metadata": {},
   "source": [
    "We can see that Carrick has 307 fires within the past 10 years, which is 3% of all fire reports. We also see that within the top 10, neighborhoods 2-3 percent of the fire reports. We can also see that the 10 lowest reported neighborhoods had less than .2% of reports. We can see that some neighborhoods have fewer fires per person, so options that are below .02 fires per person would be considered low."
   ]
  },
  {
   "cell_type": "markdown",
   "id": "724b889e-d3d9-45ba-b1ca-b2a7fd3f5336",
   "metadata": {},
   "source": [
    "We will now visualize the data. Using a bar graph, we can see that Carrick and Downtown have the most amount of fire reports, and the amount per neighborhood decreases at a fairly exponential rate."
   ]
  },
  {
   "cell_type": "code",
   "execution_count": 63,
   "id": "f076d593-05f5-42cb-918c-92092481940b",
   "metadata": {},
   "outputs": [
    {
     "data": {
      "text/plain": [
       "Text(0.5, 1.0, 'Count of fire reports')"
      ]
     },
     "execution_count": 63,
     "metadata": {},
     "output_type": "execute_result"
    },
    {
     "data": {
      "image/png": "[encoded data removed]",
      "text/plain": [
       "<Figure size 640x480 with 1 Axes>"
      ]
     },
     "metadata": {},
     "output_type": "display_data"
    }
   ],
   "source": [
    "import matplotlib.pyplot as plt\n",
    "plotted = neighborhood_counts.sort_values(by='count', ascending=False).head(20)\n",
    "\n",
    "plotted.plot(kind='bar', x='neighborhood', y='count', legend=False)\n",
    "plt.title(\"Count of fire reports\")"
   ]
  },
  {
   "cell_type": "markdown",
   "id": "f79ba840-c06d-40ec-973a-b192fe40d0f6",
   "metadata": {},
   "source": [
    "### Submetric 2 Conclusion\n",
    "\n",
    "We can conclude that neighborhoods like North Oakland, Squirrel Hill North, and Shadyside are some of the most fire safe since they have the lowest amount of fires per person."
   ]
  },
  {
   "cell_type": "markdown",
   "id": "dd63bee2-0128-4461-b562-84e0d0b674de",
   "metadata": {},
   "source": [
    "### Submetric 3: Traffic\n",
    "\n",
    "People hate traffic, but also want to be safe by not having drivers that go way faster than the speed limit. Let's see what neighborhoods have the least traffic, as well as which ones have the drivers who drive the lowest percentage over the speed limit. This should help to determine the best neighborhood in terms of traffic, as those that have low traffic and people that don't go far over the speed limit should be the best."
   ]
  },
  {
   "cell_type": "markdown",
   "id": "c66d6c9c-4eaa-47fe-b75a-59b7e2c637c6",
   "metadata": {},
   "source": [
    "The 10 neighborhoods with the lowest total daily average car traffic are"
   ]
  },
  {
   "cell_type": "code",
   "execution_count": 37,
   "id": "aab37390-b9f0-41a0-8b06-7f251267c365",
   "metadata": {},
   "outputs": [
    {
     "data": {
      "text/plain": [
       "neighborhood\n",
       "South Side Flats             115.0\n",
       "Lincoln Place                126.0\n",
       "Lincoln-Lemington-Belmar     195.0\n",
       "Fineview                     419.0\n",
       "Allegheny West               477.0\n",
       "New Homestead                666.0\n",
       "Overbrook                    777.0\n",
       "Summer Hill                  937.0\n",
       "Spring Garden               1226.0\n",
       "Beltzhoover                 1577.0\n",
       "Name: average_daily_car_traffic, dtype: float64"
      ]
     },
     "execution_count": 37,
     "metadata": {},
     "output_type": "execute_result"
    }
   ],
   "source": [
    "neighborhood_traffic = traffic.groupby('neighborhood').sum()\n",
    "neighborhood_traffic.loc[neighborhood_traffic['average_daily_car_traffic'] > 0].sort_values(by='average_daily_car_traffic', ascending=True)['average_daily_car_traffic'].head(10)"
   ]
  },
  {
   "cell_type": "markdown",
   "id": "4c9c46ec-f722-41eb-86e8-513be73e5340",
   "metadata": {},
   "source": [
    "The 10 neighborhoods with the lowest percent over the speed limit are"
   ]
  },
  {
   "cell_type": "code",
   "execution_count": 39,
   "id": "415813e1-016d-4317-99a7-47600276f4dd",
   "metadata": {},
   "outputs": [
    {
     "data": {
      "text/plain": [
       "neighborhood\n",
       "South Side Flats              3.0\n",
       "Central Business District     6.0\n",
       "Allegheny West               11.0\n",
       "Lincoln Place                14.0\n",
       "Knoxville                    25.0\n",
       "West Oakland                 28.0\n",
       "East Allegheny               38.0\n",
       "New Homestead                39.0\n",
       "Bluff                        44.0\n",
       "Fineview                     47.0\n",
       "Name: percent_over_limit, dtype: float64"
      ]
     },
     "execution_count": 39,
     "metadata": {},
     "output_type": "execute_result"
    }
   ],
   "source": [
    "neighborhood_traffic.loc[neighborhood_traffic['percent_over_limit'] > 0].sort_values(by='percent_over_limit', ascending=True)['percent_over_limit'].head(10)"
   ]
  },
  {
   "cell_type": "markdown",
   "id": "17b051f9-20c7-4999-a47f-02ae02eb88db",
   "metadata": {},
   "source": [
    "The 10 neighborhoods with the lowest recorded max speed are"
   ]
  },
  {
   "cell_type": "code",
   "execution_count": 41,
   "id": "04f34c27-6411-4d41-8b3e-7a9db174f019",
   "metadata": {},
   "outputs": [
    {
     "data": {
      "text/plain": [
       "neighborhood\n",
       "Spring Hill-City View    25.0\n",
       "Central Oakland          43.0\n",
       "New Homestead            44.0\n",
       "Elliott                  45.0\n",
       "Lincoln Place            46.0\n",
       "Perry North              47.0\n",
       "Sheraden                 48.0\n",
       "Hazelwood                48.0\n",
       "Chartiers City           51.0\n",
       "Upper Hill               53.0\n",
       "Name: max_speed, dtype: float64"
      ]
     },
     "execution_count": 41,
     "metadata": {},
     "output_type": "execute_result"
    }
   ],
   "source": [
    "neighborhood_traffic.loc[neighborhood_traffic['max_speed'] > 0].sort_values(by='max_speed', ascending=True)['max_speed'].head(10)"
   ]
  },
  {
   "cell_type": "markdown",
   "id": "57b19608-a4ec-4af0-b1a6-b4682919c894",
   "metadata": {},
   "source": [
    "### Submetric 3 Conclusion\n",
    "\n",
    "Based on the data, we can conclude that the South Side Flats have the least traffic and lowest average percentage over the speed limit, but have a high max speed. Lincoln Place, however, has low numbers in all three of these categories, making it the best neighborhood overall."
   ]
  },
  {
   "cell_type": "markdown",
   "id": "bc8f12c9-51ba-43ea-b621-4482cfef8391",
   "metadata": {},
   "source": [
    "# Best Neighborhood to live in: \n",
    "According to submetric 1 and 2, the best neighborhood would be either Squirrel Hill or Shadyside. According to submetric 3, the best neighborhood would be South Side falts or Lincoln Place. To choose the best overall neighborhood, we will have to select a neighborhood that isn't the best of any of the metrics, but is high ranking among them. South Side flats ranks decently highly in all three metrics, so we delcare South Side Flats as the best neighborhood."
   ]
  },
  {
   "cell_type": "markdown",
   "id": "67dcf856-2bcc-4f11-a2d2-87757d9fe018",
   "metadata": {},
   "source": [
    "Tyler Bonte: My favorite neighborhood is Squirrel Hill, as my older brother used to live there, and I thought it was a very cool area to live in. The data says that Squirrel Hill is pretty good, but not the best.<br>\n",
    "Ben Jupina: My favorite neighborhood is Shadyside since there are many smart trash cans and few fire reports, and the houses are very nice. Unfortunately I wouldn't be able to afford to live there since most of the houses are mansions."
   ]
  },
  {
   "cell_type": "code",
   "execution_count": null,
   "id": "898387d4-5f84-4654-8d91-e778023f8609",
   "metadata": {},
   "outputs": [],
   "source": []
  }
 ],
 "metadata": {
  "kernelspec": {
   "display_name": "Python 3 (ipykernel)",
   "language": "python",
   "name": "python3"
  },
  "language_info": {
   "codemirror_mode": {
    "name": "ipython",
    "version": 3
   },
   "file_extension": ".py",
   "mimetype": "text/x-python",
   "name": "python",
   "nbconvert_exporter": "python",
   "pygments_lexer": "ipython3",
   "version": "3.12.4"
  }
 },
 "nbformat": 4,
 "nbformat_minor": 5
}
