{
 "cells": [
  {
   "cell_type": "code",
   "execution_count": 1,
   "id": "64e058ff-decd-4b1c-84ed-1cbddd516b99",
   "metadata": {},
   "outputs": [],
   "source": [
    "#Setup\n",
    "import pandas as pd\n",
    "pd.set_option('display.max_rows', None)\n",
    "\n",
    "traffic = pd.read_csv(\"data/traffic_data.csv\", sep=\",\")\n",
    "population = pd.read_csv(\"data/population.csv\", sep=\",\")"
   ]
  },
  {
   "cell_type": "markdown",
   "id": "dd63bee2-0128-4461-b562-84e0d0b674de",
   "metadata": {},
   "source": [
    "### Submetric 3: Traffic\n",
    "\n",
    "People hate traffic, but also want to be safe by not having drivers that go way faster than the speed limit. Let's see what neighborhoods have the least traffic, as well as which ones have the drivers who drive the lowest percentage over the speed limit. This should help to determine the best neighborhood in terms of traffic, as those that have low traffic and people that don't go far over the speed limit should be the best."
   ]
  },
  {
   "cell_type": "markdown",
   "id": "c66d6c9c-4eaa-47fe-b75a-59b7e2c637c6",
   "metadata": {},
   "source": [
    "The 10 neighborhoods with the lowest total daily average car traffic are"
   ]
  },
  {
   "cell_type": "code",
   "execution_count": 4,
   "id": "aab37390-b9f0-41a0-8b06-7f251267c365",
   "metadata": {},
   "outputs": [
    {
     "data": {
      "text/plain": [
       "neighborhood\n",
       "South Side Flats             115.0\n",
       "Lincoln Place                126.0\n",
       "Lincoln-Lemington-Belmar     195.0\n",
       "Fineview                     419.0\n",
       "Allegheny West               477.0\n",
       "New Homestead                666.0\n",
       "Overbrook                    777.0\n",
       "Summer Hill                  937.0\n",
       "Spring Garden               1226.0\n",
       "Beltzhoover                 1577.0\n",
       "Name: average_daily_car_traffic, dtype: float64"
      ]
     },
     "execution_count": 4,
     "metadata": {},
     "output_type": "execute_result"
    }
   ],
   "source": [
    "neighborhood_traffic = traffic.groupby('neighborhood').sum()\n",
    "neighborhood_traffic.loc[neighborhood_traffic['average_daily_car_traffic'] > 0].sort_values(by='average_daily_car_traffic', ascending=True)['average_daily_car_traffic'].head(10)"
   ]
  },
  {
   "cell_type": "markdown",
   "id": "4c9c46ec-f722-41eb-86e8-513be73e5340",
   "metadata": {},
   "source": [
    "The 10 neighborhoods with the lowest percent over the speed limit are"
   ]
  },
  {
   "cell_type": "code",
   "execution_count": 6,
   "id": "415813e1-016d-4317-99a7-47600276f4dd",
   "metadata": {},
   "outputs": [
    {
     "data": {
      "text/plain": [
       "neighborhood\n",
       "South Side Flats              3.0\n",
       "Central Business District     6.0\n",
       "Allegheny West               11.0\n",
       "Lincoln Place                14.0\n",
       "Knoxville                    25.0\n",
       "West Oakland                 28.0\n",
       "East Allegheny               38.0\n",
       "New Homestead                39.0\n",
       "Bluff                        44.0\n",
       "Fineview                     47.0\n",
       "Name: percent_over_limit, dtype: float64"
      ]
     },
     "execution_count": 6,
     "metadata": {},
     "output_type": "execute_result"
    }
   ],
   "source": [
    "neighborhood_traffic.loc[neighborhood_traffic['percent_over_limit'] > 0].sort_values(by='percent_over_limit', ascending=True)['percent_over_limit'].head(10)"
   ]
  },
  {
   "cell_type": "markdown",
   "id": "17b051f9-20c7-4999-a47f-02ae02eb88db",
   "metadata": {},
   "source": [
    "The 10 neighborhoods with the lowest recorded max speed are"
   ]
  },
  {
   "cell_type": "code",
   "execution_count": 8,
   "id": "04f34c27-6411-4d41-8b3e-7a9db174f019",
   "metadata": {},
   "outputs": [
    {
     "data": {
      "text/plain": [
       "neighborhood\n",
       "Spring Hill-City View    25.0\n",
       "Central Oakland          43.0\n",
       "New Homestead            44.0\n",
       "Elliott                  45.0\n",
       "Lincoln Place            46.0\n",
       "Perry North              47.0\n",
       "Sheraden                 48.0\n",
       "Hazelwood                48.0\n",
       "Chartiers City           51.0\n",
       "Upper Hill               53.0\n",
       "Name: max_speed, dtype: float64"
      ]
     },
     "execution_count": 8,
     "metadata": {},
     "output_type": "execute_result"
    }
   ],
   "source": [
    "neighborhood_traffic.loc[neighborhood_traffic['max_speed'] > 0].sort_values(by='max_speed', ascending=True)['max_speed'].head(10)"
   ]
  },
  {
   "cell_type": "markdown",
   "id": "57b19608-a4ec-4af0-b1a6-b4682919c894",
   "metadata": {},
   "source": [
    "### Submetric 3 Conclusion\n",
    "\n",
    "Based on the data, we can conclude that the South Side Flats have the least traffic and lowest average percentage over the speed limit, but have a high max speed. Lincoln Place, however, has low numbers in all three of these categories, making it the best neighborhood overall."
   ]
  },
  {
   "cell_type": "code",
   "execution_count": null,
   "id": "f40ed115-c35a-42d9-ab05-81924ede2c63",
   "metadata": {},
   "outputs": [],
   "source": []
  }
 ],
 "metadata": {
  "kernelspec": {
   "display_name": "Python 3 (ipykernel)",
   "language": "python",
   "name": "python3"
  },
  "language_info": {
   "codemirror_mode": {
    "name": "ipython",
    "version": 3
   },
   "file_extension": ".py",
   "mimetype": "text/x-python",
   "name": "python",
   "nbconvert_exporter": "python",
   "pygments_lexer": "ipython3",
   "version": "3.12.4"
  }
 },
 "nbformat": 4,
 "nbformat_minor": 5
}
