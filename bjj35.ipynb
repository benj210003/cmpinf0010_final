{
 "cells": [
  {
   "cell_type": "code",
   "execution_count": 70,
   "id": "67a32f0a-095d-4a60-9216-01a08aa01236",
   "metadata": {},
   "outputs": [],
   "source": [
    "#Setup\n",
    "import pandas as pd\n",
    "pd.set_option('display.max_rows', None)\n",
    "\n",
    "trash = pd.read_csv(\"smart_trash_data.csv\", sep=\",\")\n",
    "fire = pd.read_csv(\"fire_data.csv\", sep=\",\")\n",
    "#TODO: Add your data set"
   ]
  },
  {
   "cell_type": "markdown",
   "id": "694465a8-3b40-403d-a521-c66f7a1fa097",
   "metadata": {},
   "source": [
    "# TODO Introduction and Metrics"
   ]
  },
  {
   "cell_type": "markdown",
   "id": "ad8bb9cf-3038-4f09-92c7-bf61126fd5a2",
   "metadata": {},
   "source": [
    "### Submetric 1: Cleanliness Innovations\n",
    "Walking down the streets of South Oakland, there is one thing that you will notice: trash. <br>\n",
    "You will see trashTrash \n",
    "- on the side of the street\n",
    "- coming out of trash cans\n",
    "- on people's front yards<br>\n",
    "\n",
    "__it's everywhere!__\n",
    "\n",
    "\n",
    "Fortunately, Pittsburgh is trying to decrease the amount of litter throughout the streets by installing smart trash containers. Smart trash containers are trash bins that contain sensors that will report when a bin is full and needs to be emptied. We will look at how many there are in the city, how many there are in each neighborhood, and the percentage of the smart containers that each neighborhood contains.\n",
    "\n"
   ]
  },
  {
   "cell_type": "code",
   "execution_count": 108,
   "id": "d8ed6288-952d-42bf-97c2-bb94ce7e482d",
   "metadata": {},
   "outputs": [
    {
     "name": "stdout",
     "output_type": "stream",
     "text": [
      "There are 1194 smart containers\n"
     ]
    }
   ],
   "source": [
    "# Total number of smart containers\n",
    "total_count = trash.shape[0]\n",
    "print(f\"There are {total_count} smart containers\")"
   ]
  },
  {
   "cell_type": "markdown",
   "id": "7aca8df5-0d3a-416d-a7ee-29d2e9ba723e",
   "metadata": {},
   "source": [
    "The 10 neighborhoods with the most smart trash containers are"
   ]
  },
  {
   "cell_type": "code",
   "execution_count": 105,
   "id": "b41d7fca-ea06-4992-a068-1b93cc127388",
   "metadata": {},
   "outputs": [
    {
     "data": {
      "text/html": [
       "<div>\n",
       "<style scoped>\n",
       "    .dataframe tbody tr th:only-of-type {\n",
       "        vertical-align: middle;\n",
       "    }\n",
       "\n",
       "    .dataframe tbody tr th {\n",
       "        vertical-align: top;\n",
       "    }\n",
       "\n",
       "    .dataframe thead th {\n",
       "        text-align: right;\n",
       "    }\n",
       "</style>\n",
       "<table border=\"1\" class=\"dataframe\">\n",
       "  <thead>\n",
       "    <tr style=\"text-align: right;\">\n",
       "      <th></th>\n",
       "      <th>neighborhood</th>\n",
       "      <th>count</th>\n",
       "    </tr>\n",
       "  </thead>\n",
       "  <tbody>\n",
       "    <tr>\n",
       "      <th>57</th>\n",
       "      <td>Shadyside</td>\n",
       "      <td>76</td>\n",
       "    </tr>\n",
       "    <tr>\n",
       "      <th>25</th>\n",
       "      <td>East Liberty</td>\n",
       "      <td>68</td>\n",
       "    </tr>\n",
       "    <tr>\n",
       "      <th>66</th>\n",
       "      <td>Squirrel Hill South</td>\n",
       "      <td>63</td>\n",
       "    </tr>\n",
       "    <tr>\n",
       "      <th>8</th>\n",
       "      <td>Bloomfield</td>\n",
       "      <td>58</td>\n",
       "    </tr>\n",
       "    <tr>\n",
       "      <th>48</th>\n",
       "      <td>North Shore</td>\n",
       "      <td>53</td>\n",
       "    </tr>\n",
       "    <tr>\n",
       "      <th>61</th>\n",
       "      <td>South Side Flats</td>\n",
       "      <td>51</td>\n",
       "    </tr>\n",
       "    <tr>\n",
       "      <th>69</th>\n",
       "      <td>Strip District</td>\n",
       "      <td>42</td>\n",
       "    </tr>\n",
       "    <tr>\n",
       "      <th>13</th>\n",
       "      <td>Carrick</td>\n",
       "      <td>38</td>\n",
       "    </tr>\n",
       "    <tr>\n",
       "      <th>17</th>\n",
       "      <td>Central Oakland</td>\n",
       "      <td>34</td>\n",
       "    </tr>\n",
       "    <tr>\n",
       "      <th>40</th>\n",
       "      <td>Lower Lawrenceville</td>\n",
       "      <td>29</td>\n",
       "    </tr>\n",
       "  </tbody>\n",
       "</table>\n",
       "</div>"
      ],
      "text/plain": [
       "           neighborhood  count\n",
       "57            Shadyside     76\n",
       "25         East Liberty     68\n",
       "66  Squirrel Hill South     63\n",
       "8            Bloomfield     58\n",
       "48          North Shore     53\n",
       "61     South Side Flats     51\n",
       "69       Strip District     42\n",
       "13              Carrick     38\n",
       "17      Central Oakland     34\n",
       "40  Lower Lawrenceville     29"
      ]
     },
     "execution_count": 105,
     "metadata": {},
     "output_type": "execute_result"
    }
   ],
   "source": [
    "neighborhood_counts = trash.groupby('neighborhood').size().reset_index(name='count')\n",
    "neighborhood_counts.sort_values(by='count', ascending=False).head(10)"
   ]
  },
  {
   "cell_type": "markdown",
   "id": "c1ead15d-c5a9-4dcd-b870-4a44518dccab",
   "metadata": {},
   "source": [
    "Here are the top 10 neighborhoods by percentage of the trash containers"
   ]
  },
  {
   "cell_type": "code",
   "execution_count": 120,
   "id": "426b8432-dfc9-4888-991a-d6ff74f2beaf",
   "metadata": {},
   "outputs": [
    {
     "data": {
      "text/html": [
       "<div>\n",
       "<style scoped>\n",
       "    .dataframe tbody tr th:only-of-type {\n",
       "        vertical-align: middle;\n",
       "    }\n",
       "\n",
       "    .dataframe tbody tr th {\n",
       "        vertical-align: top;\n",
       "    }\n",
       "\n",
       "    .dataframe thead th {\n",
       "        text-align: right;\n",
       "    }\n",
       "</style>\n",
       "<table border=\"1\" class=\"dataframe\">\n",
       "  <thead>\n",
       "    <tr style=\"text-align: right;\">\n",
       "      <th></th>\n",
       "      <th>neighborhood</th>\n",
       "      <th>count</th>\n",
       "      <th>percentage</th>\n",
       "    </tr>\n",
       "  </thead>\n",
       "  <tbody>\n",
       "    <tr>\n",
       "      <th>57</th>\n",
       "      <td>Shadyside</td>\n",
       "      <td>76</td>\n",
       "      <td>6.37</td>\n",
       "    </tr>\n",
       "    <tr>\n",
       "      <th>25</th>\n",
       "      <td>East Liberty</td>\n",
       "      <td>68</td>\n",
       "      <td>5.70</td>\n",
       "    </tr>\n",
       "    <tr>\n",
       "      <th>66</th>\n",
       "      <td>Squirrel Hill South</td>\n",
       "      <td>63</td>\n",
       "      <td>5.28</td>\n",
       "    </tr>\n",
       "    <tr>\n",
       "      <th>8</th>\n",
       "      <td>Bloomfield</td>\n",
       "      <td>58</td>\n",
       "      <td>4.86</td>\n",
       "    </tr>\n",
       "    <tr>\n",
       "      <th>48</th>\n",
       "      <td>North Shore</td>\n",
       "      <td>53</td>\n",
       "      <td>4.44</td>\n",
       "    </tr>\n",
       "    <tr>\n",
       "      <th>61</th>\n",
       "      <td>South Side Flats</td>\n",
       "      <td>51</td>\n",
       "      <td>4.27</td>\n",
       "    </tr>\n",
       "    <tr>\n",
       "      <th>69</th>\n",
       "      <td>Strip District</td>\n",
       "      <td>42</td>\n",
       "      <td>3.52</td>\n",
       "    </tr>\n",
       "    <tr>\n",
       "      <th>13</th>\n",
       "      <td>Carrick</td>\n",
       "      <td>38</td>\n",
       "      <td>3.18</td>\n",
       "    </tr>\n",
       "    <tr>\n",
       "      <th>17</th>\n",
       "      <td>Central Oakland</td>\n",
       "      <td>34</td>\n",
       "      <td>2.85</td>\n",
       "    </tr>\n",
       "    <tr>\n",
       "      <th>40</th>\n",
       "      <td>Lower Lawrenceville</td>\n",
       "      <td>29</td>\n",
       "      <td>2.43</td>\n",
       "    </tr>\n",
       "  </tbody>\n",
       "</table>\n",
       "</div>"
      ],
      "text/plain": [
       "           neighborhood  count  percentage\n",
       "57            Shadyside     76        6.37\n",
       "25         East Liberty     68        5.70\n",
       "66  Squirrel Hill South     63        5.28\n",
       "8            Bloomfield     58        4.86\n",
       "48          North Shore     53        4.44\n",
       "61     South Side Flats     51        4.27\n",
       "69       Strip District     42        3.52\n",
       "13              Carrick     38        3.18\n",
       "17      Central Oakland     34        2.85\n",
       "40  Lower Lawrenceville     29        2.43"
      ]
     },
     "execution_count": 120,
     "metadata": {},
     "output_type": "execute_result"
    }
   ],
   "source": [
    "neighborhood_counts['percentage'] = round((neighborhood_counts['count'] / total_count), 4) * 100\n",
    "neighborhood_counts.sort_values(by='count', ascending=False).head(10)"
   ]
  },
  {
   "cell_type": "code",
   "execution_count": 128,
   "id": "7722f001-bb4d-4d02-a8aa-d7b122add6f2",
   "metadata": {},
   "outputs": [
    {
     "data": {
      "text/html": [
       "<div>\n",
       "<style scoped>\n",
       "    .dataframe tbody tr th:only-of-type {\n",
       "        vertical-align: middle;\n",
       "    }\n",
       "\n",
       "    .dataframe tbody tr th {\n",
       "        vertical-align: top;\n",
       "    }\n",
       "\n",
       "    .dataframe thead th {\n",
       "        text-align: right;\n",
       "    }\n",
       "</style>\n",
       "<table border=\"1\" class=\"dataframe\">\n",
       "  <thead>\n",
       "    <tr style=\"text-align: right;\">\n",
       "      <th></th>\n",
       "      <th>neighborhood</th>\n",
       "      <th>count</th>\n",
       "      <th>percentage</th>\n",
       "    </tr>\n",
       "  </thead>\n",
       "  <tbody>\n",
       "    <tr>\n",
       "      <th>78</th>\n",
       "      <td>Windgap</td>\n",
       "      <td>1</td>\n",
       "      <td>0.08</td>\n",
       "    </tr>\n",
       "    <tr>\n",
       "      <th>23</th>\n",
       "      <td>East Carnegie</td>\n",
       "      <td>1</td>\n",
       "      <td>0.08</td>\n",
       "    </tr>\n",
       "    <tr>\n",
       "      <th>70</th>\n",
       "      <td>Swisshelm Park</td>\n",
       "      <td>1</td>\n",
       "      <td>0.08</td>\n",
       "    </tr>\n",
       "    <tr>\n",
       "      <th>5</th>\n",
       "      <td>Bedford Dwellings</td>\n",
       "      <td>1</td>\n",
       "      <td>0.08</td>\n",
       "    </tr>\n",
       "    <tr>\n",
       "      <th>67</th>\n",
       "      <td>St. Clair</td>\n",
       "      <td>1</td>\n",
       "      <td>0.08</td>\n",
       "    </tr>\n",
       "    <tr>\n",
       "      <th>46</th>\n",
       "      <td>Mt. Oliver</td>\n",
       "      <td>1</td>\n",
       "      <td>0.08</td>\n",
       "    </tr>\n",
       "    <tr>\n",
       "      <th>49</th>\n",
       "      <td>Northview Heights</td>\n",
       "      <td>1</td>\n",
       "      <td>0.08</td>\n",
       "    </tr>\n",
       "    <tr>\n",
       "      <th>60</th>\n",
       "      <td>South Shore</td>\n",
       "      <td>1</td>\n",
       "      <td>0.08</td>\n",
       "    </tr>\n",
       "    <tr>\n",
       "      <th>50</th>\n",
       "      <td>Oakwood</td>\n",
       "      <td>1</td>\n",
       "      <td>0.08</td>\n",
       "    </tr>\n",
       "    <tr>\n",
       "      <th>4</th>\n",
       "      <td>Banksville</td>\n",
       "      <td>2</td>\n",
       "      <td>0.17</td>\n",
       "    </tr>\n",
       "  </tbody>\n",
       "</table>\n",
       "</div>"
      ],
      "text/plain": [
       "         neighborhood  count  percentage\n",
       "78            Windgap      1        0.08\n",
       "23      East Carnegie      1        0.08\n",
       "70     Swisshelm Park      1        0.08\n",
       "5   Bedford Dwellings      1        0.08\n",
       "67          St. Clair      1        0.08\n",
       "46         Mt. Oliver      1        0.08\n",
       "49  Northview Heights      1        0.08\n",
       "60        South Shore      1        0.08\n",
       "50            Oakwood      1        0.08\n",
       "4          Banksville      2        0.17"
      ]
     },
     "execution_count": 128,
     "metadata": {},
     "output_type": "execute_result"
    }
   ],
   "source": [
    "neighborhood_counts.sort_values(by='count').head(10)"
   ]
  },
  {
   "cell_type": "markdown",
   "id": "511f4dfc-be19-48fc-a3e1-7df08c9557ac",
   "metadata": {},
   "source": [
    "We can see that Shadyside has 76 containers, which is 6.37% of the overall smart containers installed. We also see that within the top 10, neighborhoods contain anywhere between about 2.5% of the trashcans to around 6.4%. We can also see that the 9 least included neighborhoods only received 1 trashcan each, which is less than .01% of the total number installed."
   ]
  },
  {
   "cell_type": "markdown",
   "id": "e64acbf1-3569-4537-aee5-6250f3deb904",
   "metadata": {},
   "source": [
    "### Submetric 1 Conclusion\n",
    "\n",
    "We can conclude that of the almost 1200 smart containers installed by Pittsburgh, they are not evenly distributed throughout the city."
   ]
  },
  {
   "cell_type": "markdown",
   "id": "816eca7c-7895-4b3b-81a5-0df963e3740c",
   "metadata": {},
   "source": []
  }
 ],
 "metadata": {
  "kernelspec": {
   "display_name": "Python 3 (ipykernel)",
   "language": "python",
   "name": "python3"
  },
  "language_info": {
   "codemirror_mode": {
    "name": "ipython",
    "version": 3
   },
   "file_extension": ".py",
   "mimetype": "text/x-python",
   "name": "python",
   "nbconvert_exporter": "python",
   "pygments_lexer": "ipython3",
   "version": "3.12.4"
  }
 },
 "nbformat": 4,
 "nbformat_minor": 5
}
