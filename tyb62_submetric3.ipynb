{
 "cells": [
  {
   "cell_type": "code",
   "execution_count": null,
   "id": "f52d52d5-f26b-4501-a862-ac822f27e21f",
   "metadata": {},
   "outputs": [],
   "source": []
  },
  {
   "cell_type": "code",
   "execution_count": null,
   "id": "b7cb509c-0aaf-4735-9ab3-6ddeadee48e5",
   "metadata": {},
   "outputs": [],
   "source": [
    "#Setup\n",
    "import pandas as pd\n",
    "pd.set_option('display.max_rows', None)\n",
    "\n",
    "trash = pd.read_csv(\"data/smart_trash_data.csv\", sep=\",\")\n",
    "population = pd.read_csv(\"data/population.csv\", sep=\",\")"
   ]
  },
  {
   "cell_type": "markdown",
   "id": "131ec460-b825-441c-b4b1-5fa1ad0fba2d",
   "metadata": {},
   "source": [
    "### Submetric 1: Cleanliness Innovations\n",
    "Walking down the streets of South Oakland, there is one thing that you will notice: trash. <br>\n",
    "You will see trashTrash \n",
    "- on the side of the street\n",
    "- coming out of trash cans\n",
    "- on people's front yards<br>\n",
    "\n",
    "__it's everywhere!__\n",
    "\n",
    "\n",
    "Fortunately, Pittsburgh is trying to decrease the amount of litter throughout the streets by installing smart trash containers. Smart trash containers are trash bins that contain sensors that will report when a bin is full and needs to be emptied. We will look at how many there are in the city, how many there are in each neighborhood, and the percentage of the smart containers that each neighborhood contains. We will then see the neighborhoods that have the most smart trash cans per person who lives there.\n",
    "\n"
   ]
  },
  {
   "cell_type": "code",
   "execution_count": 108,
   "id": "1bbfa13e-0607-4154-96c7-9ef3b2661556",
   "metadata": {},
   "outputs": [
    {
     "name": "stdout",
     "output_type": "stream",
     "text": [
      "There are 1194 smart containers\n"
     ]
    }
   ],
   "source": [
    "# Total number of smart containers\n",
    "total_count = trash.shape[0]\n",
    "print(f\"There are {total_count} smart containers\")"
   ]
  },
  {
   "cell_type": "markdown",
   "id": "32c55676-69ad-4f0a-9d67-3b76a14e4749",
   "metadata": {},
   "source": [
    "The 10 neighborhoods with the most smart trash containers are"
   ]
  },
  {
   "cell_type": "code",
   "execution_count": 105,
   "id": "ac2ecb19-8c31-4084-9c10-19fdf8b014ed",
   "metadata": {},
   "outputs": [
    {
     "data": {
      "text/html": [
       "<div>\n",
       "<style scoped>\n",
       "    .dataframe tbody tr th:only-of-type {\n",
       "        vertical-align: middle;\n",
       "    }\n",
       "\n",
       "    .dataframe tbody tr th {\n",
       "        vertical-align: top;\n",
       "    }\n",
       "\n",
       "    .dataframe thead th {\n",
       "        text-align: right;\n",
       "    }\n",
       "</style>\n",
       "<table border=\"1\" class=\"dataframe\">\n",
       "  <thead>\n",
       "    <tr style=\"text-align: right;\">\n",
       "      <th></th>\n",
       "      <th>neighborhood</th>\n",
       "      <th>count</th>\n",
       "    </tr>\n",
       "  </thead>\n",
       "  <tbody>\n",
       "    <tr>\n",
       "      <th>57</th>\n",
       "      <td>Shadyside</td>\n",
       "      <td>76</td>\n",
       "    </tr>\n",
       "    <tr>\n",
       "      <th>25</th>\n",
       "      <td>East Liberty</td>\n",
       "      <td>68</td>\n",
       "    </tr>\n",
       "    <tr>\n",
       "      <th>66</th>\n",
       "      <td>Squirrel Hill South</td>\n",
       "      <td>63</td>\n",
       "    </tr>\n",
       "    <tr>\n",
       "      <th>8</th>\n",
       "      <td>Bloomfield</td>\n",
       "      <td>58</td>\n",
       "    </tr>\n",
       "    <tr>\n",
       "      <th>48</th>\n",
       "      <td>North Shore</td>\n",
       "      <td>53</td>\n",
       "    </tr>\n",
       "    <tr>\n",
       "      <th>61</th>\n",
       "      <td>South Side Flats</td>\n",
       "      <td>51</td>\n",
       "    </tr>\n",
       "    <tr>\n",
       "      <th>69</th>\n",
       "      <td>Strip District</td>\n",
       "      <td>42</td>\n",
       "    </tr>\n",
       "    <tr>\n",
       "      <th>13</th>\n",
       "      <td>Carrick</td>\n",
       "      <td>38</td>\n",
       "    </tr>\n",
       "    <tr>\n",
       "      <th>17</th>\n",
       "      <td>Central Oakland</td>\n",
       "      <td>34</td>\n",
       "    </tr>\n",
       "    <tr>\n",
       "      <th>40</th>\n",
       "      <td>Lower Lawrenceville</td>\n",
       "      <td>29</td>\n",
       "    </tr>\n",
       "  </tbody>\n",
       "</table>\n",
       "</div>"
      ],
      "text/plain": [
       "           neighborhood  count\n",
       "57            Shadyside     76\n",
       "25         East Liberty     68\n",
       "66  Squirrel Hill South     63\n",
       "8            Bloomfield     58\n",
       "48          North Shore     53\n",
       "61     South Side Flats     51\n",
       "69       Strip District     42\n",
       "13              Carrick     38\n",
       "17      Central Oakland     34\n",
       "40  Lower Lawrenceville     29"
      ]
     },
     "execution_count": 105,
     "metadata": {},
     "output_type": "execute_result"
    }
   ],
   "source": [
    "neighborhood_counts = trash.groupby('neighborhood').size().reset_index(name='count')\n",
    "neighborhood_counts.sort_values(by='count', ascending=False).head(10)"
   ]
  },
  {
   "cell_type": "markdown",
   "id": "2d9982c9-8538-4069-a351-7c7daa82c385",
   "metadata": {},
   "source": [
    "Here are the top 10 neighborhoods by percentage of the trash containers"
   ]
  },
  {
   "cell_type": "code",
   "execution_count": 120,
   "id": "515a6433-3bd3-4a04-ba4f-9f4af3aa7967",
   "metadata": {},
   "outputs": [
    {
     "data": {
      "text/html": [
       "<div>\n",
       "<style scoped>\n",
       "    .dataframe tbody tr th:only-of-type {\n",
       "        vertical-align: middle;\n",
       "    }\n",
       "\n",
       "    .dataframe tbody tr th {\n",
       "        vertical-align: top;\n",
       "    }\n",
       "\n",
       "    .dataframe thead th {\n",
       "        text-align: right;\n",
       "    }\n",
       "</style>\n",
       "<table border=\"1\" class=\"dataframe\">\n",
       "  <thead>\n",
       "    <tr style=\"text-align: right;\">\n",
       "      <th></th>\n",
       "      <th>neighborhood</th>\n",
       "      <th>count</th>\n",
       "      <th>percentage</th>\n",
       "    </tr>\n",
       "  </thead>\n",
       "  <tbody>\n",
       "    <tr>\n",
       "      <th>57</th>\n",
       "      <td>Shadyside</td>\n",
       "      <td>76</td>\n",
       "      <td>6.37</td>\n",
       "    </tr>\n",
       "    <tr>\n",
       "      <th>25</th>\n",
       "      <td>East Liberty</td>\n",
       "      <td>68</td>\n",
       "      <td>5.70</td>\n",
       "    </tr>\n",
       "    <tr>\n",
       "      <th>66</th>\n",
       "      <td>Squirrel Hill South</td>\n",
       "      <td>63</td>\n",
       "      <td>5.28</td>\n",
       "    </tr>\n",
       "    <tr>\n",
       "      <th>8</th>\n",
       "      <td>Bloomfield</td>\n",
       "      <td>58</td>\n",
       "      <td>4.86</td>\n",
       "    </tr>\n",
       "    <tr>\n",
       "      <th>48</th>\n",
       "      <td>North Shore</td>\n",
       "      <td>53</td>\n",
       "      <td>4.44</td>\n",
       "    </tr>\n",
       "    <tr>\n",
       "      <th>61</th>\n",
       "      <td>South Side Flats</td>\n",
       "      <td>51</td>\n",
       "      <td>4.27</td>\n",
       "    </tr>\n",
       "    <tr>\n",
       "      <th>69</th>\n",
       "      <td>Strip District</td>\n",
       "      <td>42</td>\n",
       "      <td>3.52</td>\n",
       "    </tr>\n",
       "    <tr>\n",
       "      <th>13</th>\n",
       "      <td>Carrick</td>\n",
       "      <td>38</td>\n",
       "      <td>3.18</td>\n",
       "    </tr>\n",
       "    <tr>\n",
       "      <th>17</th>\n",
       "      <td>Central Oakland</td>\n",
       "      <td>34</td>\n",
       "      <td>2.85</td>\n",
       "    </tr>\n",
       "    <tr>\n",
       "      <th>40</th>\n",
       "      <td>Lower Lawrenceville</td>\n",
       "      <td>29</td>\n",
       "      <td>2.43</td>\n",
       "    </tr>\n",
       "  </tbody>\n",
       "</table>\n",
       "</div>"
      ],
      "text/plain": [
       "           neighborhood  count  percentage\n",
       "57            Shadyside     76        6.37\n",
       "25         East Liberty     68        5.70\n",
       "66  Squirrel Hill South     63        5.28\n",
       "8            Bloomfield     58        4.86\n",
       "48          North Shore     53        4.44\n",
       "61     South Side Flats     51        4.27\n",
       "69       Strip District     42        3.52\n",
       "13              Carrick     38        3.18\n",
       "17      Central Oakland     34        2.85\n",
       "40  Lower Lawrenceville     29        2.43"
      ]
     },
     "execution_count": 120,
     "metadata": {},
     "output_type": "execute_result"
    }
   ],
   "source": [
    "neighborhood_counts['percentage'] = round((neighborhood_counts['count'] / total_count), 4) * 100\n",
    "neighborhood_counts.sort_values(by='count', ascending=False).head(10)"
   ]
  },
  {
   "cell_type": "code",
   "execution_count": 226,
   "id": "c9583dac-2fb4-45c1-a7aa-cb0e76ce145a",
   "metadata": {},
   "outputs": [
    {
     "data": {
      "text/html": [
       "<div>\n",
       "<style scoped>\n",
       "    .dataframe tbody tr th:only-of-type {\n",
       "        vertical-align: middle;\n",
       "    }\n",
       "\n",
       "    .dataframe tbody tr th {\n",
       "        vertical-align: top;\n",
       "    }\n",
       "\n",
       "    .dataframe thead th {\n",
       "        text-align: right;\n",
       "    }\n",
       "</style>\n",
       "<table border=\"1\" class=\"dataframe\">\n",
       "  <thead>\n",
       "    <tr style=\"text-align: right;\">\n",
       "      <th></th>\n",
       "      <th>neighborhood</th>\n",
       "      <th>count</th>\n",
       "      <th>percentage</th>\n",
       "    </tr>\n",
       "  </thead>\n",
       "  <tbody>\n",
       "    <tr>\n",
       "      <th>78</th>\n",
       "      <td>Windgap</td>\n",
       "      <td>1</td>\n",
       "      <td>0.08</td>\n",
       "    </tr>\n",
       "    <tr>\n",
       "      <th>23</th>\n",
       "      <td>East Carnegie</td>\n",
       "      <td>1</td>\n",
       "      <td>0.08</td>\n",
       "    </tr>\n",
       "    <tr>\n",
       "      <th>70</th>\n",
       "      <td>Swisshelm Park</td>\n",
       "      <td>1</td>\n",
       "      <td>0.08</td>\n",
       "    </tr>\n",
       "    <tr>\n",
       "      <th>5</th>\n",
       "      <td>Bedford Dwellings</td>\n",
       "      <td>1</td>\n",
       "      <td>0.08</td>\n",
       "    </tr>\n",
       "    <tr>\n",
       "      <th>67</th>\n",
       "      <td>St. Clair</td>\n",
       "      <td>1</td>\n",
       "      <td>0.08</td>\n",
       "    </tr>\n",
       "    <tr>\n",
       "      <th>46</th>\n",
       "      <td>Mt. Oliver</td>\n",
       "      <td>1</td>\n",
       "      <td>0.08</td>\n",
       "    </tr>\n",
       "    <tr>\n",
       "      <th>49</th>\n",
       "      <td>Northview Heights</td>\n",
       "      <td>1</td>\n",
       "      <td>0.08</td>\n",
       "    </tr>\n",
       "    <tr>\n",
       "      <th>60</th>\n",
       "      <td>South Shore</td>\n",
       "      <td>1</td>\n",
       "      <td>0.08</td>\n",
       "    </tr>\n",
       "    <tr>\n",
       "      <th>50</th>\n",
       "      <td>Oakwood</td>\n",
       "      <td>1</td>\n",
       "      <td>0.08</td>\n",
       "    </tr>\n",
       "    <tr>\n",
       "      <th>4</th>\n",
       "      <td>Banksville</td>\n",
       "      <td>2</td>\n",
       "      <td>0.17</td>\n",
       "    </tr>\n",
       "  </tbody>\n",
       "</table>\n",
       "</div>"
      ],
      "text/plain": [
       "         neighborhood  count  percentage\n",
       "78            Windgap      1        0.08\n",
       "23      East Carnegie      1        0.08\n",
       "70     Swisshelm Park      1        0.08\n",
       "5   Bedford Dwellings      1        0.08\n",
       "67          St. Clair      1        0.08\n",
       "46         Mt. Oliver      1        0.08\n",
       "49  Northview Heights      1        0.08\n",
       "60        South Shore      1        0.08\n",
       "50            Oakwood      1        0.08\n",
       "4          Banksville      2        0.17"
      ]
     },
     "execution_count": 226,
     "metadata": {},
     "output_type": "execute_result"
    }
   ],
   "source": [
    "neighborhood_counts.sort_values(by='count').head(10)"
   ]
  },
  {
   "cell_type": "code",
   "execution_count": 243,
   "id": "9153a2a8-2dd8-4ff5-9d84-fbe7e9ef21f2",
   "metadata": {},
   "outputs": [
    {
     "data": {
      "text/html": [
       "<div>\n",
       "<style scoped>\n",
       "    .dataframe tbody tr th:only-of-type {\n",
       "        vertical-align: middle;\n",
       "    }\n",
       "\n",
       "    .dataframe tbody tr th {\n",
       "        vertical-align: top;\n",
       "    }\n",
       "\n",
       "    .dataframe thead th {\n",
       "        text-align: right;\n",
       "    }\n",
       "</style>\n",
       "<table border=\"1\" class=\"dataframe\">\n",
       "  <thead>\n",
       "    <tr style=\"text-align: right;\">\n",
       "      <th></th>\n",
       "      <th>neighborhood</th>\n",
       "      <th>count</th>\n",
       "      <th>2020_Total_Population</th>\n",
       "      <th>people per container</th>\n",
       "    </tr>\n",
       "  </thead>\n",
       "  <tbody>\n",
       "    <tr>\n",
       "      <th>16</th>\n",
       "      <td>Chateau</td>\n",
       "      <td>5</td>\n",
       "      <td>19</td>\n",
       "      <td>3.800000</td>\n",
       "    </tr>\n",
       "    <tr>\n",
       "      <th>46</th>\n",
       "      <td>North Shore</td>\n",
       "      <td>53</td>\n",
       "      <td>301</td>\n",
       "      <td>5.679245</td>\n",
       "    </tr>\n",
       "    <tr>\n",
       "      <th>72</th>\n",
       "      <td>West End</td>\n",
       "      <td>9</td>\n",
       "      <td>205</td>\n",
       "      <td>22.777778</td>\n",
       "    </tr>\n",
       "    <tr>\n",
       "      <th>58</th>\n",
       "      <td>South Shore</td>\n",
       "      <td>1</td>\n",
       "      <td>29</td>\n",
       "      <td>29.000000</td>\n",
       "    </tr>\n",
       "    <tr>\n",
       "      <th>1</th>\n",
       "      <td>Allegheny West</td>\n",
       "      <td>15</td>\n",
       "      <td>540</td>\n",
       "      <td>36.000000</td>\n",
       "    </tr>\n",
       "    <tr>\n",
       "      <th>66</th>\n",
       "      <td>Strip District</td>\n",
       "      <td>42</td>\n",
       "      <td>1845</td>\n",
       "      <td>43.928571</td>\n",
       "    </tr>\n",
       "    <tr>\n",
       "      <th>41</th>\n",
       "      <td>Middle Hill</td>\n",
       "      <td>29</td>\n",
       "      <td>1757</td>\n",
       "      <td>60.586207</td>\n",
       "    </tr>\n",
       "    <tr>\n",
       "      <th>20</th>\n",
       "      <td>East Allegheny</td>\n",
       "      <td>26</td>\n",
       "      <td>1903</td>\n",
       "      <td>73.192308</td>\n",
       "    </tr>\n",
       "    <tr>\n",
       "      <th>35</th>\n",
       "      <td>Larimer</td>\n",
       "      <td>20</td>\n",
       "      <td>1545</td>\n",
       "      <td>77.250000</td>\n",
       "    </tr>\n",
       "    <tr>\n",
       "      <th>32</th>\n",
       "      <td>Homewood South</td>\n",
       "      <td>28</td>\n",
       "      <td>2260</td>\n",
       "      <td>80.714286</td>\n",
       "    </tr>\n",
       "  </tbody>\n",
       "</table>\n",
       "</div>"
      ],
      "text/plain": [
       "      neighborhood  count  2020_Total_Population  people per container\n",
       "16         Chateau      5                     19              3.800000\n",
       "46     North Shore     53                    301              5.679245\n",
       "72        West End      9                    205             22.777778\n",
       "58     South Shore      1                     29             29.000000\n",
       "1   Allegheny West     15                    540             36.000000\n",
       "66  Strip District     42                   1845             43.928571\n",
       "41     Middle Hill     29                   1757             60.586207\n",
       "20  East Allegheny     26                   1903             73.192308\n",
       "35         Larimer     20                   1545             77.250000\n",
       "32  Homewood South     28                   2260             80.714286"
      ]
     },
     "execution_count": 243,
     "metadata": {},
     "output_type": "execute_result"
    }
   ],
   "source": [
    "merged = pd.merge(neighborhood_counts, population, left_on='neighborhood', right_on='Neighborhood', how='inner')\n",
    "\n",
    "merged['people per container'] = merged['2020_Total_Population']/merged['count']\n",
    "merged.sort_values(by='people per container')\n",
    "merged[['neighborhood','count','2020_Total_Population','people per container']].sort_values(by='people per container').head(10)"
   ]
  },
  {
   "cell_type": "markdown",
   "id": "709d2620-2e8d-47fd-a649-408bba234334",
   "metadata": {},
   "source": [
    "We can see that Shadyside has 76 containers, which is 6.37% of the overall smart containers installed. We also see that within the top 10, neighborhoods contain anywhere between about 2.5% of the trashcans to around 6.4%. We can also see that the 9 least included neighborhoods only received 1 trashcan each, which is less than .01% of the total number installed. We can see that some neighborhoods have more trash cans per person, meaning that a place like the Strip District or North Shore would be the best option"
   ]
  },
  {
   "cell_type": "markdown",
   "id": "0bd43d69-8b21-431d-b511-ca3fb54f6923",
   "metadata": {},
   "source": [
    "### Submetric 1 Conclusion\n",
    "\n",
    "We can conclude that of the almost 1200 smart containers installed by Pittsburgh, they are not evenly distributed throughout the city. Shadyside, East Liberty, and Squirrel Hill received the most amount of trash cans, so hopefully they will have the least amount of litter in teh future. However, we can see that the North Shore and West End are two of the neighborhoods with the a population greater than 100 with the most trash cans per person."
   ]
  },
  {
   "cell_type": "markdown",
   "id": "ba738721-f26c-4fc4-b56d-6d1437bcb2df",
   "metadata": {},
   "source": []
  },
  {
   "cell_type": "code",
   "execution_count": 1,
   "id": "fff5b35e-0c7c-484e-bf34-33afc8b53e8b",
   "metadata": {},
   "outputs": [],
   "source": [
    "#Setup\n",
    "import pandas as pd\n",
    "pd.set_option('display.max_rows', None)\n",
    "\n",
    "traffic = pd.read_csv(\"data/traffic_data.csv\", sep=\",\")\n",
    "population = pd.read_csv(\"data/population.csv\", sep=\",\")"
   ]
  },
  {
   "cell_type": "code",
   "execution_count": null,
   "id": "7072e5d7-2165-44e7-ad7e-dd9d869402a2",
   "metadata": {},
   "outputs": [],
   "source": []
  },
  {
   "cell_type": "markdown",
   "id": "ef7efb88-c082-46ba-b0f7-f8e0163b577e",
   "metadata": {},
   "source": [
    "### Submetric 3: Traffic\n",
    "\n",
    "People hate traffic, but also want to be safe by not having drivers that go way faster than the speed limit. Let's see what neighborhoods have the least traffic, as well as which ones have the drivers who drive the lowest percentage over the speed limit. This should help to determine the best neighborhood in terms of traffic, as those that have low traffic and people that don't go far over the speed limit should be the best."
   ]
  },
  {
   "cell_type": "markdown",
   "id": "087a0f90-f786-4d16-9291-ae5d504dcd22",
   "metadata": {},
   "source": [
    "The 10 neighborhoods with the lowest total daily average car traffic are"
   ]
  },
  {
   "cell_type": "code",
   "execution_count": 4,
   "id": "a8a6e43e-9372-4562-9f45-4c47268055ff",
   "metadata": {},
   "outputs": [
    {
     "data": {
      "text/plain": [
       "neighborhood\n",
       "South Side Flats             115.0\n",
       "Lincoln Place                126.0\n",
       "Lincoln-Lemington-Belmar     195.0\n",
       "Fineview                     419.0\n",
       "Allegheny West               477.0\n",
       "New Homestead                666.0\n",
       "Overbrook                    777.0\n",
       "Summer Hill                  937.0\n",
       "Spring Garden               1226.0\n",
       "Beltzhoover                 1577.0\n",
       "Name: average_daily_car_traffic, dtype: float64"
      ]
     },
     "execution_count": 4,
     "metadata": {},
     "output_type": "execute_result"
    }
   ],
   "source": [
    "neighborhood_traffic = traffic.groupby('neighborhood').sum()\n",
    "neighborhood_traffic.loc[neighborhood_traffic['average_daily_car_traffic'] > 0].sort_values(by='average_daily_car_traffic', ascending=True)['average_daily_car_traffic'].head(10)"
   ]
  },
  {
   "cell_type": "markdown",
   "id": "9f4dbf0d-0259-4774-90f2-22da12a9c3fb",
   "metadata": {},
   "source": [
    "The 10 neighborhoods with the lowest percent over the speed limit are"
   ]
  },
  {
   "cell_type": "code",
   "execution_count": 6,
   "id": "a2a8b310-6185-4f4b-9337-34428f3eb2e6",
   "metadata": {},
   "outputs": [
    {
     "data": {
      "text/plain": [
       "neighborhood\n",
       "South Side Flats              3.0\n",
       "Central Business District     6.0\n",
       "Allegheny West               11.0\n",
       "Lincoln Place                14.0\n",
       "Knoxville                    25.0\n",
       "West Oakland                 28.0\n",
       "East Allegheny               38.0\n",
       "New Homestead                39.0\n",
       "Bluff                        44.0\n",
       "Fineview                     47.0\n",
       "Name: percent_over_limit, dtype: float64"
      ]
     },
     "execution_count": 6,
     "metadata": {},
     "output_type": "execute_result"
    }
   ],
   "source": [
    "neighborhood_traffic.loc[neighborhood_traffic['percent_over_limit'] > 0].sort_values(by='percent_over_limit', ascending=True)['percent_over_limit'].head(10)"
   ]
  },
  {
   "cell_type": "markdown",
   "id": "724a13b0-0a50-4413-802b-65a26236e5ea",
   "metadata": {},
   "source": [
    "The 10 neighborhoods with the lowest recorded max speed are"
   ]
  },
  {
   "cell_type": "code",
   "execution_count": 8,
   "id": "efc8afc2-7699-428f-b0ec-73b68ec9ff1d",
   "metadata": {},
   "outputs": [
    {
     "data": {
      "text/plain": [
       "neighborhood\n",
       "Spring Hill-City View    25.0\n",
       "Central Oakland          43.0\n",
       "New Homestead            44.0\n",
       "Elliott                  45.0\n",
       "Lincoln Place            46.0\n",
       "Perry North              47.0\n",
       "Sheraden                 48.0\n",
       "Hazelwood                48.0\n",
       "Chartiers City           51.0\n",
       "Upper Hill               53.0\n",
       "Name: max_speed, dtype: float64"
      ]
     },
     "execution_count": 8,
     "metadata": {},
     "output_type": "execute_result"
    }
   ],
   "source": [
    "neighborhood_traffic.loc[neighborhood_traffic['max_speed'] > 0].sort_values(by='max_speed', ascending=True)['max_speed'].head(10)"
   ]
  },
  {
   "cell_type": "markdown",
   "id": "79fa65f8-d8b0-4081-9057-060bcbd0933a",
   "metadata": {},
   "source": [
    "### Submetric 3 Conclusion\n",
    "\n",
    "Based on the data, we can conclude that the South Side Flats have the least traffic and lowest average percentage over the speed limit, but have a high max speed. Lincoln Place, however, has low numbers in all three of these categories, making it the best neighborhood overall."
   ]
  },
  {
   "cell_type": "code",
   "execution_count": null,
   "id": "3a811455-2152-4af5-9357-16a936a557cd",
   "metadata": {},
   "outputs": [],
   "source": []
  }
 ],
 "metadata": {
  "kernelspec": {
   "display_name": "Python 3 (ipykernel)",
   "language": "python",
   "name": "python3"
  },
  "language_info": {
   "codemirror_mode": {
    "name": "ipython",
    "version": 3
   },
   "file_extension": ".py",
   "mimetype": "text/x-python",
   "name": "python",
   "nbconvert_exporter": "python",
   "pygments_lexer": "ipython3",
   "version": "3.12.4"
  }
 },
 "nbformat": 4,
 "nbformat_minor": 5
}
